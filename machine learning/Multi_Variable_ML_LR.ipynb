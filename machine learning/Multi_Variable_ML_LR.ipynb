{
  "nbformat": 4,
  "nbformat_minor": 0,
  "metadata": {
    "colab": {
      "name": "Multi_Variable_ML_LR.ipynb",
      "version": "0.3.2",
      "provenance": [],
      "collapsed_sections": [],
      "include_colab_link": true
    },
    "language_info": {
      "codemirror_mode": {
        "name": "ipython",
        "version": 3
      },
      "file_extension": ".py",
      "mimetype": "text/x-python",
      "name": "python",
      "nbconvert_exporter": "python",
      "pygments_lexer": "ipython3",
      "version": "3.7.3"
    },
    "kernelspec": {
      "display_name": "Python 3",
      "language": "python",
      "name": "python3"
    }
  },
  "cells": [
    {
      "cell_type": "markdown",
      "metadata": {
        "id": "view-in-github",
        "colab_type": "text"
      },
      "source": [
        "<a href=\"https://colab.research.google.com/github/swarthyPig/Raspberry-Pi_DHT22_Weather_Station_with_AI/blob/master/machine%20learning/Multi_Variable_ML_LR.ipynb\" target=\"_parent\"><img src=\"https://colab.research.google.com/assets/colab-badge.svg\" alt=\"Open In Colab\"/></a>"
      ]
    },
    {
      "cell_type": "code",
      "metadata": {
        "colab_type": "code",
        "id": "kVkl87c4HR4p",
        "colab": {}
      },
      "source": [
        "import pandas as pd\n",
        "import numpy as np\n",
        "from pandas.io.parsers import read_csv\n",
        "import matplotlib.pyplot as plt\n",
        "%matplotlib inline\n",
        "\n",
        "data = read_csv('iot_data.csv', sep=',')\n",
        "\n",
        "#data = np.array(data, dtype=np.float32)"
      ],
      "execution_count": 0,
      "outputs": []
    },
    {
      "cell_type": "code",
      "metadata": {
        "id": "BCREbgHFQTUv",
        "colab_type": "code",
        "outputId": "32141605-f816-4428-fe90-74b5d310de17",
        "colab": {
          "base_uri": "https://localhost:8080/",
          "height": 179
        }
      },
      "source": [
        "data.info()"
      ],
      "execution_count": 0,
      "outputs": [
        {
          "output_type": "stream",
          "text": [
            "<class 'pandas.core.frame.DataFrame'>\n",
            "RangeIndex: 1492 entries, 0 to 1491\n",
            "Data columns (total 4 columns):\n",
            "Unnamed: 0     1492 non-null int64\n",
            "temperature    1492 non-null float64\n",
            "humidity       1492 non-null float64\n",
            "cr             1492 non-null int64\n",
            "dtypes: float64(2), int64(2)\n",
            "memory usage: 46.7 KB\n"
          ],
          "name": "stdout"
        }
      ]
    },
    {
      "cell_type": "code",
      "metadata": {
        "id": "qIUwD11GQTUz",
        "colab_type": "code",
        "outputId": "38a73a02-d384-494c-849a-bf1bbe8c12f0",
        "colab": {
          "base_uri": "https://localhost:8080/",
          "height": 204
        }
      },
      "source": [
        "data.head(5)"
      ],
      "execution_count": 0,
      "outputs": [
        {
          "output_type": "execute_result",
          "data": {
            "text/html": [
              "<div>\n",
              "<style scoped>\n",
              "    .dataframe tbody tr th:only-of-type {\n",
              "        vertical-align: middle;\n",
              "    }\n",
              "\n",
              "    .dataframe tbody tr th {\n",
              "        vertical-align: top;\n",
              "    }\n",
              "\n",
              "    .dataframe thead th {\n",
              "        text-align: right;\n",
              "    }\n",
              "</style>\n",
              "<table border=\"1\" class=\"dataframe\">\n",
              "  <thead>\n",
              "    <tr style=\"text-align: right;\">\n",
              "      <th></th>\n",
              "      <th>Unnamed: 0</th>\n",
              "      <th>temperature</th>\n",
              "      <th>humidity</th>\n",
              "      <th>cr</th>\n",
              "    </tr>\n",
              "  </thead>\n",
              "  <tbody>\n",
              "    <tr>\n",
              "      <th>0</th>\n",
              "      <td>1</td>\n",
              "      <td>21.40</td>\n",
              "      <td>52.20</td>\n",
              "      <td>4</td>\n",
              "    </tr>\n",
              "    <tr>\n",
              "      <th>1</th>\n",
              "      <td>2</td>\n",
              "      <td>22.55</td>\n",
              "      <td>50.60</td>\n",
              "      <td>5</td>\n",
              "    </tr>\n",
              "    <tr>\n",
              "      <th>2</th>\n",
              "      <td>3</td>\n",
              "      <td>22.50</td>\n",
              "      <td>50.50</td>\n",
              "      <td>4</td>\n",
              "    </tr>\n",
              "    <tr>\n",
              "      <th>3</th>\n",
              "      <td>4</td>\n",
              "      <td>21.90</td>\n",
              "      <td>53.45</td>\n",
              "      <td>5</td>\n",
              "    </tr>\n",
              "    <tr>\n",
              "      <th>4</th>\n",
              "      <td>5</td>\n",
              "      <td>22.40</td>\n",
              "      <td>53.65</td>\n",
              "      <td>5</td>\n",
              "    </tr>\n",
              "  </tbody>\n",
              "</table>\n",
              "</div>"
            ],
            "text/plain": [
              "   Unnamed: 0  temperature  humidity  cr\n",
              "0           1        21.40     52.20   4\n",
              "1           2        22.55     50.60   5\n",
              "2           3        22.50     50.50   4\n",
              "3           4        21.90     53.45   5\n",
              "4           5        22.40     53.65   5"
            ]
          },
          "metadata": {
            "tags": []
          },
          "execution_count": 3
        }
      ]
    },
    {
      "cell_type": "code",
      "metadata": {
        "id": "GGlc4B44QTU1",
        "colab_type": "code",
        "outputId": "3376d0b6-0a01-4e2a-98ab-480a6a0694c2",
        "colab": {
          "base_uri": "https://localhost:8080/",
          "height": 204
        }
      },
      "source": [
        "df = data.iloc[:,1:]\n",
        "df.head()"
      ],
      "execution_count": 0,
      "outputs": [
        {
          "output_type": "execute_result",
          "data": {
            "text/html": [
              "<div>\n",
              "<style scoped>\n",
              "    .dataframe tbody tr th:only-of-type {\n",
              "        vertical-align: middle;\n",
              "    }\n",
              "\n",
              "    .dataframe tbody tr th {\n",
              "        vertical-align: top;\n",
              "    }\n",
              "\n",
              "    .dataframe thead th {\n",
              "        text-align: right;\n",
              "    }\n",
              "</style>\n",
              "<table border=\"1\" class=\"dataframe\">\n",
              "  <thead>\n",
              "    <tr style=\"text-align: right;\">\n",
              "      <th></th>\n",
              "      <th>temperature</th>\n",
              "      <th>humidity</th>\n",
              "      <th>cr</th>\n",
              "    </tr>\n",
              "  </thead>\n",
              "  <tbody>\n",
              "    <tr>\n",
              "      <th>0</th>\n",
              "      <td>21.40</td>\n",
              "      <td>52.20</td>\n",
              "      <td>4</td>\n",
              "    </tr>\n",
              "    <tr>\n",
              "      <th>1</th>\n",
              "      <td>22.55</td>\n",
              "      <td>50.60</td>\n",
              "      <td>5</td>\n",
              "    </tr>\n",
              "    <tr>\n",
              "      <th>2</th>\n",
              "      <td>22.50</td>\n",
              "      <td>50.50</td>\n",
              "      <td>4</td>\n",
              "    </tr>\n",
              "    <tr>\n",
              "      <th>3</th>\n",
              "      <td>21.90</td>\n",
              "      <td>53.45</td>\n",
              "      <td>5</td>\n",
              "    </tr>\n",
              "    <tr>\n",
              "      <th>4</th>\n",
              "      <td>22.40</td>\n",
              "      <td>53.65</td>\n",
              "      <td>5</td>\n",
              "    </tr>\n",
              "  </tbody>\n",
              "</table>\n",
              "</div>"
            ],
            "text/plain": [
              "   temperature  humidity  cr\n",
              "0        21.40     52.20   4\n",
              "1        22.55     50.60   5\n",
              "2        22.50     50.50   4\n",
              "3        21.90     53.45   5\n",
              "4        22.40     53.65   5"
            ]
          },
          "metadata": {
            "tags": []
          },
          "execution_count": 4
        }
      ]
    },
    {
      "cell_type": "code",
      "metadata": {
        "id": "RNog_0KiQTU4",
        "colab_type": "code",
        "outputId": "8cdc1e88-4171-4765-81fb-33dd799964e0",
        "colab": {
          "base_uri": "https://localhost:8080/",
          "height": 287
        }
      },
      "source": [
        "df[['temperature','humidity']].plot()"
      ],
      "execution_count": 0,
      "outputs": [
        {
          "output_type": "execute_result",
          "data": {
            "text/plain": [
              "<matplotlib.axes._subplots.AxesSubplot at 0x7fb1cf6f37b8>"
            ]
          },
          "metadata": {
            "tags": []
          },
          "execution_count": 5
        },
        {
          "output_type": "display_data",
          "data": {
            "image/png": "[encoded data removed]",
            "text/plain": [
              "<Figure size 432x288 with 1 Axes>"
            ]
          },
          "metadata": {
            "tags": []
          }
        }
      ]
    },
    {
      "cell_type": "code",
      "metadata": {
        "id": "XpxbySgpQTU6",
        "colab_type": "code",
        "outputId": "d31face5-31b8-40c4-eba1-d751706ae457",
        "colab": {
          "base_uri": "https://localhost:8080/",
          "height": 287
        }
      },
      "source": [
        "df['cr'].plot()"
      ],
      "execution_count": 0,
      "outputs": [
        {
          "output_type": "execute_result",
          "data": {
            "text/plain": [
              "<matplotlib.axes._subplots.AxesSubplot at 0x7fb1ccde5c88>"
            ]
          },
          "metadata": {
            "tags": []
          },
          "execution_count": 6
        },
        {
          "output_type": "display_data",
          "data": {
            "image/png": "[encoded data removed]",
            "text/plain": [
              "<Figure size 432x288 with 1 Axes>"
            ]
          },
          "metadata": {
            "tags": []
          }
        }
      ]
    },
    {
      "cell_type": "code",
      "metadata": {
        "id": "SSumuhBLQTU8",
        "colab_type": "code",
        "outputId": "5b5cbd60-1608-42b9-bbbd-2828be41a48d",
        "colab": {
          "base_uri": "https://localhost:8080/",
          "height": 301
        }
      },
      "source": [
        "df.plot.scatter(x='temperature', y='humidity', c='DarkBlue')"
      ],
      "execution_count": 0,
      "outputs": [
        {
          "output_type": "execute_result",
          "data": {
            "text/plain": [
              "<matplotlib.axes._subplots.AxesSubplot at 0x7fb1ccd56b38>"
            ]
          },
          "metadata": {
            "tags": []
          },
          "execution_count": 7
        },
        {
          "output_type": "display_data",
          "data": {
            "image/png": "[encoded data removed]",
            "text/plain": [
              "<Figure size 432x288 with 1 Axes>"
            ]
          },
          "metadata": {
            "tags": []
          }
        }
      ]
    },
    {
      "cell_type": "code",
      "metadata": {
        "id": "ATq0aZrEQTU_",
        "colab_type": "code",
        "outputId": "1a10b42d-95e5-476a-deef-f8ee40e8e60a",
        "colab": {
          "base_uri": "https://localhost:8080/",
          "height": 301
        }
      },
      "source": [
        "df.plot.scatter(x='cr', y='temperature', c='DarkBlue')"
      ],
      "execution_count": 0,
      "outputs": [
        {
          "output_type": "execute_result",
          "data": {
            "text/plain": [
              "<matplotlib.axes._subplots.AxesSubplot at 0x7fb1ccd36d68>"
            ]
          },
          "metadata": {
            "tags": []
          },
          "execution_count": 8
        },
        {
          "output_type": "display_data",
          "data": {
            "image/png": "[encoded data removed]",
            "text/plain": [
              "<Figure size 432x288 with 1 Axes>"
            ]
          },
          "metadata": {
            "tags": []
          }
        }
      ]
    },
    {
      "cell_type": "code",
      "metadata": {
        "id": "lzXu4hX3QTVB",
        "colab_type": "code",
        "outputId": "3a5636db-e869-4110-b49f-e3e9eb152a4f",
        "colab": {
          "base_uri": "https://localhost:8080/",
          "height": 301
        }
      },
      "source": [
        "df.plot.scatter(x='cr', y='humidity', c='DarkBlue')"
      ],
      "execution_count": 0,
      "outputs": [
        {
          "output_type": "execute_result",
          "data": {
            "text/plain": [
              "<matplotlib.axes._subplots.AxesSubplot at 0x7fb1ccca3128>"
            ]
          },
          "metadata": {
            "tags": []
          },
          "execution_count": 9
        },
        {
          "output_type": "display_data",
          "data": {
            "image/png": "[encoded data removed]",
            "text/plain": [
              "<Figure size 432x288 with 1 Axes>"
            ]
          },
          "metadata": {
            "tags": []
          }
        }
      ]
    },
    {
      "cell_type": "markdown",
      "metadata": {
        "id": "evnAKkZ9QTVE",
        "colab_type": "text"
      },
      "source": [
        "***"
      ]
    },
    {
      "cell_type": "markdown",
      "metadata": {
        "id": "S-Eqg4qmQTVF",
        "colab_type": "text"
      },
      "source": [
        "### Split data into train and test"
      ]
    },
    {
      "cell_type": "code",
      "metadata": {
        "id": "fj9BTqv8QTVK",
        "colab_type": "code",
        "colab": {}
      },
      "source": [
        "from sklearn.model_selection import train_test_split\n",
        "\n",
        "X_train, X_test, y_train, y_test = train_test_split(df[['temperature','humidity']], df['cr'], \n",
        "                                                    test_size=0.3, random_state=0)"
      ],
      "execution_count": 0,
      "outputs": []
    },
    {
      "cell_type": "markdown",
      "metadata": {
        "id": "rJkmbzZaQTVM",
        "colab_type": "text"
      },
      "source": [
        "## ML LR model"
      ]
    },
    {
      "cell_type": "markdown",
      "metadata": {
        "id": "Z7bkGV0gQTVM",
        "colab_type": "text"
      },
      "source": [
        "### Check parameters of model\n",
        "\n",
        "- W: W[0], W[1]\n",
        "- b\n",
        "\n",
        "> predicted CR = W[0] * T + W[1] * H + b\n"
      ]
    },
    {
      "cell_type": "code",
      "metadata": {
        "id": "gHNxRFPoQTVV",
        "colab_type": "code",
        "colab": {}
      },
      "source": [
        "from sklearn.metrics import r2_score\n",
        "from sklearn.metrics import mean_squared_error"
      ],
      "execution_count": 0,
      "outputs": []
    },
    {
      "cell_type": "code",
      "metadata": {
        "id": "JRrO11PbQTVW",
        "colab_type": "code",
        "outputId": "c3df4654-2e79-4ef3-c47b-eab8979aa822",
        "colab": {
          "base_uri": "https://localhost:8080/",
          "height": 244
        }
      },
      "source": [
        "y_predict = model.predict(X_train) \n",
        "score = r2_score(y_train, y_predict)\n",
        "#score = mean_squared_error(y_train, y_predict) \n",
        "#score = np.sqrt(mean_squared_error(y_train, y_predict))\n",
        "#score = estimator.score(x_train, y_train) #내부에서 predict \n",
        "print(score) #1.0"
      ],
      "execution_count": 0,
      "outputs": [
        {
          "output_type": "error",
          "ename": "NameError",
          "evalue": "ignored",
          "traceback": [
            "\u001b[0;31m---------------------------------------------------------------------------\u001b[0m",
            "\u001b[0;31mNameError\u001b[0m                                 Traceback (most recent call last)",
            "\u001b[0;32m<ipython-input-12-79a19f923a44>\u001b[0m in \u001b[0;36m<module>\u001b[0;34m()\u001b[0m\n\u001b[0;32m----> 1\u001b[0;31m \u001b[0my_predict\u001b[0m \u001b[0;34m=\u001b[0m \u001b[0mmodel\u001b[0m\u001b[0;34m.\u001b[0m\u001b[0mpredict\u001b[0m\u001b[0;34m(\u001b[0m\u001b[0mX_train\u001b[0m\u001b[0;34m)\u001b[0m\u001b[0;34m\u001b[0m\u001b[0;34m\u001b[0m\u001b[0m\n\u001b[0m\u001b[1;32m      2\u001b[0m \u001b[0mscore\u001b[0m \u001b[0;34m=\u001b[0m \u001b[0mr2_score\u001b[0m\u001b[0;34m(\u001b[0m\u001b[0my_train\u001b[0m\u001b[0;34m,\u001b[0m \u001b[0my_predict\u001b[0m\u001b[0;34m)\u001b[0m\u001b[0;34m\u001b[0m\u001b[0;34m\u001b[0m\u001b[0m\n\u001b[1;32m      3\u001b[0m \u001b[0;31m#score = mean_squared_error(y_train, y_predict)\u001b[0m\u001b[0;34m\u001b[0m\u001b[0;34m\u001b[0m\u001b[0;34m\u001b[0m\u001b[0m\n\u001b[1;32m      4\u001b[0m \u001b[0;31m#score = np.sqrt(mean_squared_error(y_train, y_predict))\u001b[0m\u001b[0;34m\u001b[0m\u001b[0;34m\u001b[0m\u001b[0;34m\u001b[0m\u001b[0m\n\u001b[1;32m      5\u001b[0m \u001b[0;31m#score = estimator.score(x_train, y_train) #내부에서 predict\u001b[0m\u001b[0;34m\u001b[0m\u001b[0;34m\u001b[0m\u001b[0;34m\u001b[0m\u001b[0m\n",
            "\u001b[0;31mNameError\u001b[0m: name 'model' is not defined"
          ]
        }
      ]
    },
    {
      "cell_type": "code",
      "metadata": {
        "id": "oKmJOCdJQTVY",
        "colab_type": "code",
        "outputId": "37230136-b1d8-48ea-a61b-b7180190288c",
        "colab": {
          "base_uri": "https://localhost:8080/",
          "height": 244
        }
      },
      "source": [
        "y_predict = model.predict(X_test) \n",
        "score = r2_score(y_test, y_predict)\n",
        "#score = mean_squared_error(y_test, y_predict) \n",
        "#score = np.sqrt(mean_squared_error(y_test, y_predict)) \n",
        "#score = estimator.score(x_test, y_test)\n",
        "print(score) #1.0"
      ],
      "execution_count": 0,
      "outputs": [
        {
          "output_type": "error",
          "ename": "NameError",
          "evalue": "ignored",
          "traceback": [
            "\u001b[0;31m---------------------------------------------------------------------------\u001b[0m",
            "\u001b[0;31mNameError\u001b[0m                                 Traceback (most recent call last)",
            "\u001b[0;32m<ipython-input-13-d0494e6dfcf4>\u001b[0m in \u001b[0;36m<module>\u001b[0;34m()\u001b[0m\n\u001b[0;32m----> 1\u001b[0;31m \u001b[0my_predict\u001b[0m \u001b[0;34m=\u001b[0m \u001b[0mmodel\u001b[0m\u001b[0;34m.\u001b[0m\u001b[0mpredict\u001b[0m\u001b[0;34m(\u001b[0m\u001b[0mX_test\u001b[0m\u001b[0;34m)\u001b[0m\u001b[0;34m\u001b[0m\u001b[0;34m\u001b[0m\u001b[0m\n\u001b[0m\u001b[1;32m      2\u001b[0m \u001b[0mscore\u001b[0m \u001b[0;34m=\u001b[0m \u001b[0mr2_score\u001b[0m\u001b[0;34m(\u001b[0m\u001b[0my_test\u001b[0m\u001b[0;34m,\u001b[0m \u001b[0my_predict\u001b[0m\u001b[0;34m)\u001b[0m\u001b[0;34m\u001b[0m\u001b[0;34m\u001b[0m\u001b[0m\n\u001b[1;32m      3\u001b[0m \u001b[0;31m#score = mean_squared_error(y_test, y_predict)\u001b[0m\u001b[0;34m\u001b[0m\u001b[0;34m\u001b[0m\u001b[0;34m\u001b[0m\u001b[0m\n\u001b[1;32m      4\u001b[0m \u001b[0;31m#score = np.sqrt(mean_squared_error(y_test, y_predict))\u001b[0m\u001b[0;34m\u001b[0m\u001b[0;34m\u001b[0m\u001b[0;34m\u001b[0m\u001b[0m\n\u001b[1;32m      5\u001b[0m \u001b[0;31m#score = estimator.score(x_test, y_test)\u001b[0m\u001b[0;34m\u001b[0m\u001b[0;34m\u001b[0m\u001b[0;34m\u001b[0m\u001b[0m\n",
            "\u001b[0;31mNameError\u001b[0m: name 'model' is not defined"
          ]
        }
      ]
    },
    {
      "cell_type": "code",
      "metadata": {
        "id": "NInpCRgTQTVb",
        "colab_type": "code",
        "outputId": "aa477f00-8e9c-467d-c300-87a3ff13a873",
        "colab": {}
      },
      "source": [
        "# 선형 회귀 모델의 정확도(R^2)\n",
        "\n",
        "print(\"트레인 세트의 정확도: {:.2f}\".format(model.score(X_train, y_train)))\n",
        "print(\"테스트 세트의 정확도: {:.2f}\".format(model.score(X_test, y_test)))"
      ],
      "execution_count": 0,
      "outputs": [
        {
          "output_type": "stream",
          "text": [
            "트레인 세트의 정확도: 0.74\n",
            "테스트 세트의 정확도: 0.91\n"
          ],
          "name": "stdout"
        }
      ]
    },
    {
      "cell_type": "markdown",
      "metadata": {
        "id": "lx3jW7kNQTVi",
        "colab_type": "text"
      },
      "source": [
        "## Logistic regression"
      ]
    },
    {
      "cell_type": "code",
      "metadata": {
        "id": "IfWWTlLbQTVi",
        "colab_type": "code",
        "colab": {}
      },
      "source": [
        "from sklearn.linear_model import LogisticRegression"
      ],
      "execution_count": 0,
      "outputs": []
    },
    {
      "cell_type": "code",
      "metadata": {
        "id": "FsvSGrEFQTVm",
        "colab_type": "code",
        "outputId": "aaba3911-2eae-49b0-e7ae-ef6219d68a00",
        "colab": {
          "base_uri": "https://localhost:8080/",
          "height": 89
        }
      },
      "source": [
        "log_clf = LogisticRegression(solver='lbfgs', multi_class='auto', max_iter=1000)\n",
        "log_clf.fit(X_train,y_train)"
      ],
      "execution_count": 0,
      "outputs": [
        {
          "output_type": "execute_result",
          "data": {
            "text/plain": [
              "LogisticRegression(C=1.0, class_weight=None, dual=False, fit_intercept=True,\n",
              "          intercept_scaling=1, max_iter=1000, multi_class='auto',\n",
              "          n_jobs=None, penalty='l2', random_state=None, solver='lbfgs',\n",
              "          tol=0.0001, verbose=0, warm_start=False)"
            ]
          },
          "metadata": {
            "tags": []
          },
          "execution_count": 12
        }
      ]
    },
    {
      "cell_type": "code",
      "metadata": {
        "id": "3oXIawwKQTVq",
        "colab_type": "code",
        "outputId": "98c1e726-bc9e-4910-cabe-c36d1446b764",
        "colab": {
          "base_uri": "https://localhost:8080/",
          "height": 35
        }
      },
      "source": [
        "log_clf.score(X_test, y_test)"
      ],
      "execution_count": 0,
      "outputs": [
        {
          "output_type": "execute_result",
          "data": {
            "text/plain": [
              "0.39955357142857145"
            ]
          },
          "metadata": {
            "tags": []
          },
          "execution_count": 13
        }
      ]
    },
    {
      "cell_type": "code",
      "metadata": {
        "id": "ixWmeUtfQTVs",
        "colab_type": "code",
        "outputId": "5a575061-840c-4fc0-cfd9-780a16258dfd",
        "colab": {
          "base_uri": "https://localhost:8080/",
          "height": 1493
        }
      },
      "source": [
        "log_clf.predict(X_test),y_test"
      ],
      "execution_count": 0,
      "outputs": [
        {
          "output_type": "execute_result",
          "data": {
            "text/plain": [
              "(array([5, 4, 5, 4, 5, 4, 5, 5, 5, 5, 5, 5, 5, 5, 5, 5, 5, 5, 5, 4, 4, 5,\n",
              "        1, 5, 5, 4, 5, 5, 5, 5, 5, 5, 5, 4, 5, 5, 5, 5, 5, 5, 5, 5, 5, 5,\n",
              "        5, 5, 5, 2, 4, 4, 5, 5, 5, 5, 4, 5, 5, 5, 4, 5, 5, 5, 1, 5, 4, 5,\n",
              "        5, 5, 5, 5, 5, 5, 5, 5, 5, 4, 5, 5, 5, 5, 5, 5, 5, 5, 1, 4, 4, 5,\n",
              "        5, 5, 5, 4, 5, 5, 5, 5, 4, 5, 5, 4, 4, 5, 5, 5, 5, 5, 5, 5, 5, 5,\n",
              "        4, 4, 5, 5, 5, 5, 5, 5, 5, 5, 5, 5, 5, 5, 5, 5, 5, 4, 5, 4, 5, 4,\n",
              "        4, 5, 4, 4, 5, 4, 5, 5, 5, 5, 5, 5, 4, 5, 5, 4, 5, 5, 5, 5, 5, 5,\n",
              "        5, 5, 5, 5, 5, 4, 5, 5, 5, 5, 5, 5, 5, 5, 4, 5, 5, 5, 5, 5, 4, 5,\n",
              "        5, 5, 1, 5, 5, 5, 5, 4, 5, 5, 4, 5, 5, 5, 5, 5, 5, 5, 5, 5, 5, 5,\n",
              "        5, 5, 5, 5, 5, 5, 5, 1, 5, 5, 5, 5, 5, 5, 5, 5, 5, 5, 5, 5, 5, 5,\n",
              "        5, 5, 5, 4, 5, 5, 5, 4, 5, 5, 4, 5, 5, 5, 5, 5, 5, 5, 5, 5, 4, 5,\n",
              "        5, 5, 5, 5, 5, 5, 5, 5, 4, 5, 5, 5, 1, 5, 5, 5, 5, 5, 5, 5, 5, 5,\n",
              "        5, 5, 5, 5, 5, 5, 5, 5, 4, 5, 4, 5, 5, 5, 5, 5, 4, 5, 5, 5, 4, 4,\n",
              "        5, 5, 5, 5, 4, 5, 5, 5, 5, 5, 5, 5, 1, 2, 5, 5, 5, 5, 5, 5, 5, 5,\n",
              "        4, 4, 1, 5, 5, 5, 5, 3, 1, 4, 5, 5, 5, 5, 5, 5, 5, 5, 5, 5, 4, 5,\n",
              "        5, 5, 5, 5, 5, 5, 5, 5, 4, 5, 5, 5, 5, 5, 5, 5, 5, 5, 5, 5, 5, 4,\n",
              "        5, 1, 5, 5, 5, 4, 5, 5, 1, 5, 5, 5, 5, 5, 5, 5, 5, 4, 5, 5, 5, 4,\n",
              "        5, 5, 1, 5, 5, 5, 5, 5, 5, 5, 5, 4, 5, 4, 2, 5, 5, 1, 5, 4, 5, 4,\n",
              "        5, 5, 5, 5, 1, 5, 5, 5, 5, 5, 1, 5, 5, 5, 4, 5, 5, 4, 5, 4, 5, 5,\n",
              "        4, 5, 5, 4, 5, 5, 5, 5, 5, 5, 5, 5, 5, 5, 4, 5, 4, 5, 5, 5, 5, 5,\n",
              "        5, 5, 5, 5, 5, 5, 5, 5]), 798     5\n",
              " 1045    5\n",
              " 1434    4\n",
              " 54      4\n",
              " 792     4\n",
              " 1097    4\n",
              " 481     5\n",
              " 742     4\n",
              " 233     2\n",
              " 427     1\n",
              " 1327    5\n",
              " 9       3\n",
              " 362     3\n",
              " 881     4\n",
              " 1219    5\n",
              " 1229    5\n",
              " 1431    5\n",
              " 579     4\n",
              " 1321    5\n",
              " 1100    5\n",
              " 1193    3\n",
              " 310     2\n",
              " 1485    4\n",
              " 829     5\n",
              " 654     5\n",
              " 1056    5\n",
              " 590     5\n",
              " 315     2\n",
              " 934     5\n",
              " 527     4\n",
              "        ..\n",
              " 1124    5\n",
              " 259     4\n",
              " 618     4\n",
              " 1461    4\n",
              " 1299    4\n",
              " 432     2\n",
              " 853     4\n",
              " 251     5\n",
              " 411     5\n",
              " 528     5\n",
              " 249     3\n",
              " 1239    5\n",
              " 983     5\n",
              " 474     2\n",
              " 1386    4\n",
              " 426     2\n",
              " 1197    4\n",
              " 538     5\n",
              " 689     5\n",
              " 1323    5\n",
              " 638     5\n",
              " 1244    4\n",
              " 808     4\n",
              " 911     4\n",
              " 613     4\n",
              " 733     4\n",
              " 823     4\n",
              " 1279    4\n",
              " 644     5\n",
              " 1032    5\n",
              " Name: cr, Length: 448, dtype: int64)"
            ]
          },
          "metadata": {
            "tags": []
          },
          "execution_count": 14
        }
      ]
    },
    {
      "cell_type": "code",
      "metadata": {
        "id": "1lLr1sv1QTVv",
        "colab_type": "code",
        "outputId": "168c3b78-df44-4576-a72b-788e153919d2",
        "colab": {
          "base_uri": "https://localhost:8080/",
          "height": 53
        }
      },
      "source": [
        "# 로지스틱 회귀 모델의 정확도(R^2)\n",
        "\n",
        "print(\"트레인 세트의 정확도: {:.2f}\".format(log_clf.score(X_train, y_train)))\n",
        "print(\"테스트 세트의 정확도: {:.2f}\".format(log_clf.score(X_test, y_test)))"
      ],
      "execution_count": 0,
      "outputs": [
        {
          "output_type": "stream",
          "text": [
            "트레인 세트의 정확도: 0.39\n",
            "테스트 세트의 정확도: 0.40\n"
          ],
          "name": "stdout"
        }
      ]
    },
    {
      "cell_type": "code",
      "metadata": {
        "id": "UAYpEfjLQTVx",
        "colab_type": "code",
        "outputId": "1a782158-2ef6-4377-f1dd-d87cc2767ada",
        "colab": {
          "base_uri": "https://localhost:8080/",
          "height": 143
        }
      },
      "source": [
        "log_clf.coef_,log_clf.intercept_"
      ],
      "execution_count": 0,
      "outputs": [
        {
          "output_type": "execute_result",
          "data": {
            "text/plain": [
              "(array([[-0.1346762 , -0.27852378],\n",
              "        [-0.04901599, -0.29829329],\n",
              "        [-0.10245773,  0.0486759 ],\n",
              "        [ 0.1199589 ,  0.25829894],\n",
              "        [ 0.16619101,  0.26984224]]),\n",
              " array([ 14.09166461,  12.61430938,   0.57982503, -12.86527865,\n",
              "        -14.42052037]))"
            ]
          },
          "metadata": {
            "tags": []
          },
          "execution_count": 16
        }
      ]
    },
    {
      "cell_type": "code",
      "metadata": {
        "id": "cbtV8AnUQTVz",
        "colab_type": "code",
        "colab": {}
      },
      "source": [
        "import json"
      ],
      "execution_count": 0,
      "outputs": []
    },
    {
      "cell_type": "code",
      "metadata": {
        "id": "-63ACoqmQTV1",
        "colab_type": "code",
        "outputId": "9330ebdb-f598-4da3-9c55-5e0d74070e8b",
        "colab": {
          "base_uri": "https://localhost:8080/",
          "height": 55
        }
      },
      "source": [
        "# serialize coefficients (imitate loading from storage)\n",
        "encoded = json.dumps((log_clf.coef_.tolist(), log_clf.intercept_.tolist(), log_clf.penalty, log_clf.C))\n",
        "print(encoded)"
      ],
      "execution_count": 0,
      "outputs": [
        {
          "output_type": "stream",
          "text": [
            "[[[0.01838509139766735, -0.31970679084810366], [0.04893723742837274, -0.3209444589150392], [-0.12939870817951724, 0.09357984840848106], [0.09477592365729284, 0.2966436588277713], [-0.03269954432499251, 0.2504277425210815]], [11.824801528485626, 11.00587133343161, -0.6487033319781057, -13.776501798489177, -8.405467731493518], \"l2\", 1.0]\n"
          ],
          "name": "stdout"
        }
      ]
    },
    {
      "cell_type": "markdown",
      "metadata": {
        "id": "bFsZc8IlQTV4",
        "colab_type": "text"
      },
      "source": [
        "### Save model (Logistic regression)"
      ]
    },
    {
      "cell_type": "code",
      "metadata": {
        "id": "bO0sU5iPQTV4",
        "colab_type": "code",
        "outputId": "23799e59-84dc-4188-b1c3-8e930f2397ad",
        "colab": {
          "base_uri": "https://localhost:8080/",
          "height": 35
        }
      },
      "source": [
        "from sklearn.externals import joblib\n",
        "# save the model to disk\n",
        "filename = 'logi_model.sav'\n",
        "joblib.dump(log_clf, filename)\n",
        " "
      ],
      "execution_count": 0,
      "outputs": [
        {
          "output_type": "execute_result",
          "data": {
            "text/plain": [
              "['logi_model.sav']"
            ]
          },
          "metadata": {
            "tags": []
          },
          "execution_count": 23
        }
      ]
    },
    {
      "cell_type": "markdown",
      "metadata": {
        "id": "nJJNl3OjQTV7",
        "colab_type": "text"
      },
      "source": [
        "### How to use parameters of logistic regression"
      ]
    },
    {
      "cell_type": "code",
      "metadata": {
        "id": "0gMmNbt7QTV7",
        "colab_type": "code",
        "outputId": "ba5c96aa-725c-4d44-a816-bbbf6f79ae8d",
        "colab": {
          "base_uri": "https://localhost:8080/",
          "height": 71
        }
      },
      "source": [
        "X_test.shape, X_test.iloc[0][0],X_test.iloc[0][1],X_test.iloc[0]"
      ],
      "execution_count": 0,
      "outputs": [
        {
          "output_type": "execute_result",
          "data": {
            "text/plain": [
              "((489, 2), 21.1, 48.15, temperature    21.10\n",
              " humidity       48.15\n",
              " Name: 1197, dtype: float64)"
            ]
          },
          "metadata": {
            "tags": []
          },
          "execution_count": 24
        }
      ]
    },
    {
      "cell_type": "code",
      "metadata": {
        "id": "dHlESY9_QTV9",
        "colab_type": "code",
        "colab": {}
      },
      "source": [
        "# def sigmoid(x):\n",
        "#     return 1 / (1 + np.exp(-x))\n",
        "\n",
        "# sigmoid(X_test * log_clf.coef_ + log_clf.intercept_).ravel()"
      ],
      "execution_count": 0,
      "outputs": []
    },
    {
      "cell_type": "code",
      "metadata": {
        "id": "ByxXJKgXQTV_",
        "colab_type": "code",
        "colab": {}
      },
      "source": [
        "# Compatibility layer between Python 2 and Python 3\n",
        "from __future__ import print_function\n",
        "import seaborn as sns\n",
        "from scipy import stats\n",
        "\n",
        "from sklearn import metrics\n",
        "from sklearn.metrics import classification_report\n",
        "from sklearn import preprocessing"
      ],
      "execution_count": 0,
      "outputs": []
    },
    {
      "cell_type": "code",
      "metadata": {
        "id": "O53iwk6mQTWB",
        "colab_type": "code",
        "colab": {}
      },
      "source": [
        "def show_confusion_matrix(validations, predictions):\n",
        "\n",
        "    matrix = metrics.confusion_matrix(validations, predictions)\n",
        "    plt.figure(figsize=(8, 8))\n",
        "    sns.heatmap(matrix,\n",
        "                cmap=\"coolwarm\",\n",
        "                linecolor='white',\n",
        "                linewidths=1,\n",
        "                xticklabels=LABELS,\n",
        "                yticklabels=LABELS,\n",
        "                annot=True,\n",
        "                fmt=\"d\")\n",
        "    plt.title(\"Confusion Matrix\")\n",
        "    plt.ylabel(\"True Label\")\n",
        "    plt.xlabel(\"Predicted Label\")\n",
        "    plt.show()"
      ],
      "execution_count": 0,
      "outputs": []
    },
    {
      "cell_type": "code",
      "metadata": {
        "id": "ETJnUcuzQTWC",
        "colab_type": "code",
        "colab": {}
      },
      "source": [
        "# Parameters of data\n",
        "LABELS = [\"1\", \n",
        "          \"2\", \n",
        "          \"3\", \n",
        "          \"4\",\n",
        "          \"5\"]"
      ],
      "execution_count": 0,
      "outputs": []
    },
    {
      "cell_type": "code",
      "metadata": {
        "id": "Obt09PCdQTWF",
        "colab_type": "code",
        "outputId": "23529d3b-1fd4-444a-f65e-c576f28e9384",
        "colab": {
          "base_uri": "https://localhost:8080/",
          "height": 983
        }
      },
      "source": [
        "# Confusion matrix for test data\n",
        "print(\"\\n--- Confusion matrix for test data ---\\n\")\n",
        "\n",
        "y_pred_test = log_clf.predict(X_test)\n",
        "# Take the class with the highest probability from the test predictions\n",
        "\n",
        "\n",
        "show_confusion_matrix(y_test.values, y_pred_test)\n",
        "\n",
        "# %%\n",
        "\n",
        "print(\"\\n\\n--- Classification report for test data ---\\n\")\n",
        "\n",
        "print(classification_report(y_test.values, y_pred_test))"
      ],
      "execution_count": 0,
      "outputs": [
        {
          "output_type": "stream",
          "text": [
            "\n",
            "--- Confusion matrix for test data ---\n",
            "\n"
          ],
          "name": "stdout"
        },
        {
          "output_type": "display_data",
          "data": {
            "image/png": "[encoded data removed]",
            "text/plain": [
              "<Figure size 576x576 with 2 Axes>"
            ]
          },
          "metadata": {
            "tags": []
          }
        },
        {
          "output_type": "stream",
          "text": [
            "\n",
            "\n",
            "--- Classification report for test data ---\n",
            "\n",
            "              precision    recall  f1-score   support\n",
            "\n",
            "         1.0       0.33      0.25      0.29        28\n",
            "         2.0       0.00      0.00      0.00        32\n",
            "         3.0       0.00      0.00      0.00        49\n",
            "         4.0       0.38      0.26      0.31       156\n",
            "         5.0       0.44      0.71      0.54       224\n",
            "\n",
            "   micro avg       0.42      0.42      0.42       489\n",
            "   macro avg       0.23      0.24      0.23       489\n",
            "weighted avg       0.34      0.42      0.36       489\n",
            "\n"
          ],
          "name": "stdout"
        },
        {
          "output_type": "stream",
          "text": [
            "/usr/local/lib/python3.6/dist-packages/sklearn/metrics/classification.py:1143: UndefinedMetricWarning: Precision and F-score are ill-defined and being set to 0.0 in labels with no predicted samples.\n",
            "  'precision', 'predicted', average, warn_for)\n",
            "/usr/local/lib/python3.6/dist-packages/sklearn/metrics/classification.py:1143: UndefinedMetricWarning: Precision and F-score are ill-defined and being set to 0.0 in labels with no predicted samples.\n",
            "  'precision', 'predicted', average, warn_for)\n",
            "/usr/local/lib/python3.6/dist-packages/sklearn/metrics/classification.py:1143: UndefinedMetricWarning: Precision and F-score are ill-defined and being set to 0.0 in labels with no predicted samples.\n",
            "  'precision', 'predicted', average, warn_for)\n"
          ],
          "name": "stderr"
        }
      ]
    },
    {
      "cell_type": "code",
      "metadata": {
        "id": "GpL-Yb6AQTWH",
        "colab_type": "code",
        "outputId": "bb862fa6-d21f-45e4-be48-069ce1f9b1e9",
        "colab": {
          "base_uri": "https://localhost:8080/",
          "height": 539
        }
      },
      "source": [
        "y_test.values"
      ],
      "execution_count": 0,
      "outputs": [
        {
          "output_type": "execute_result",
          "data": {
            "text/plain": [
              "array([4., 2., 1., 5., 5., 5., 4., 4., 5., 5., 3., 4., 2., 3., 5., 3., 5.,\n",
              "       5., 4., 4., 5., 5., 3., 5., 5., 5., 2., 4., 3., 1., 5., 4., 5., 4.,\n",
              "       4., 5., 5., 5., 5., 5., 4., 5., 3., 4., 5., 3., 5., 4., 5., 5., 5.,\n",
              "       5., 1., 5., 1., 4., 3., 1., 5., 4., 5., 5., 4., 1., 5., 4., 2., 2.,\n",
              "       5., 5., 5., 4., 4., 3., 4., 4., 5., 5., 4., 4., 5., 5., 3., 5., 5.,\n",
              "       5., 3., 5., 3., 1., 4., 5., 5., 5., 4., 4., 1., 2., 5., 5., 4., 5.,\n",
              "       1., 3., 5., 5., 5., 5., 3., 4., 4., 5., 4., 5., 4., 5., 3., 5., 1.,\n",
              "       5., 5., 4., 5., 5., 3., 4., 3., 5., 4., 4., 3., 4., 5., 5., 5., 5.,\n",
              "       5., 3., 5., 5., 4., 4., 5., 4., 5., 5., 5., 5., 3., 2., 5., 3., 5.,\n",
              "       5., 5., 5., 4., 5., 2., 5., 5., 5., 4., 4., 5., 2., 5., 4., 5., 2.,\n",
              "       2., 2., 2., 3., 4., 5., 4., 4., 4., 5., 4., 5., 5., 4., 5., 5., 4.,\n",
              "       1., 4., 4., 5., 5., 5., 5., 5., 5., 5., 4., 5., 2., 3., 4., 5., 5.,\n",
              "       1., 4., 4., 2., 4., 4., 4., 4., 5., 5., 4., 2., 3., 4., 4., 5., 5.,\n",
              "       4., 3., 5., 4., 2., 4., 5., 4., 5., 1., 3., 4., 5., 5., 4., 5., 4.,\n",
              "       5., 5., 2., 5., 4., 4., 5., 1., 5., 1., 5., 4., 4., 5., 4., 4., 4.,\n",
              "       5., 4., 4., 3., 5., 5., 5., 4., 4., 5., 4., 4., 5., 5., 5., 3., 5.,\n",
              "       4., 3., 4., 1., 3., 5., 4., 4., 2., 4., 5., 5., 5., 5., 5., 3., 3.,\n",
              "       1., 5., 5., 3., 4., 4., 5., 4., 5., 2., 5., 1., 5., 5., 5., 4., 1.,\n",
              "       5., 5., 3., 3., 5., 3., 3., 5., 4., 4., 4., 4., 4., 5., 5., 5., 5.,\n",
              "       5., 4., 5., 4., 4., 5., 4., 1., 4., 5., 4., 2., 4., 4., 1., 5., 4.,\n",
              "       5., 2., 5., 4., 3., 5., 5., 4., 5., 5., 1., 4., 5., 4., 5., 4., 4.,\n",
              "       4., 1., 5., 4., 5., 5., 4., 4., 4., 4., 3., 5., 4., 3., 4., 5., 5.,\n",
              "       5., 5., 5., 5., 5., 1., 4., 5., 2., 3., 4., 3., 5., 4., 1., 5., 4.,\n",
              "       2., 4., 2., 3., 5., 1., 5., 5., 4., 4., 2., 4., 4., 5., 5., 4., 4.,\n",
              "       5., 4., 5., 5., 5., 4., 5., 4., 4., 4., 5., 2., 5., 2., 4., 4., 3.,\n",
              "       3., 5., 5., 5., 4., 1., 4., 5., 5., 4., 5., 4., 5., 4., 5., 5., 4.,\n",
              "       1., 5., 3., 4., 2., 4., 5., 5., 3., 4., 5., 5., 4., 3., 5., 4., 5.,\n",
              "       5., 5., 4., 5., 5., 3., 5., 4., 5., 5., 2., 4., 2., 5., 5., 4., 4.,\n",
              "       5., 5., 4., 5., 5., 5., 5., 2., 5., 5., 4., 5., 5.])"
            ]
          },
          "metadata": {
            "tags": []
          },
          "execution_count": 33
        }
      ]
    },
    {
      "cell_type": "code",
      "metadata": {
        "id": "ra4eYSI-QTWJ",
        "colab_type": "code",
        "outputId": "6e9ffbdf-2944-4ca6-9582-5ab7b5df5a13",
        "colab": {
          "base_uri": "https://localhost:8080/",
          "height": 539
        }
      },
      "source": [
        "y_pred_test"
      ],
      "execution_count": 0,
      "outputs": [
        {
          "output_type": "execute_result",
          "data": {
            "text/plain": [
              "array([5., 5., 5., 5., 5., 4., 5., 5., 4., 4., 5., 5., 1., 5., 5., 5., 4.,\n",
              "       5., 1., 5., 5., 5., 5., 4., 5., 4., 5., 4., 5., 5., 5., 4., 4., 5.,\n",
              "       5., 5., 5., 5., 4., 4., 1., 5., 5., 5., 5., 5., 5., 5., 5., 4., 5.,\n",
              "       4., 5., 5., 5., 5., 5., 1., 5., 5., 5., 5., 4., 5., 5., 4., 5., 5.,\n",
              "       4., 4., 5., 5., 5., 5., 5., 4., 5., 4., 5., 5., 5., 4., 5., 4., 5.,\n",
              "       5., 5., 1., 5., 5., 4., 4., 5., 4., 4., 5., 1., 5., 5., 5., 5., 4.,\n",
              "       5., 5., 5., 4., 4., 4., 5., 4., 5., 5., 4., 5., 5., 4., 5., 5., 5.,\n",
              "       5., 5., 5., 5., 5., 4., 5., 5., 5., 5., 5., 5., 4., 4., 1., 4., 5.,\n",
              "       4., 5., 5., 4., 5., 5., 5., 5., 5., 5., 5., 5., 5., 5., 5., 5., 5.,\n",
              "       5., 5., 4., 5., 5., 5., 5., 5., 4., 5., 5., 5., 5., 4., 4., 5., 1.,\n",
              "       5., 1., 5., 4., 4., 5., 4., 5., 5., 4., 4., 5., 5., 4., 4., 5., 5.,\n",
              "       5., 5., 4., 5., 5., 5., 4., 5., 5., 4., 5., 5., 5., 5., 5., 5., 5.,\n",
              "       5., 5., 5., 5., 5., 5., 5., 5., 5., 5., 5., 5., 5., 5., 5., 5., 5.,\n",
              "       4., 5., 5., 5., 5., 5., 5., 5., 5., 5., 5., 5., 5., 4., 5., 5., 5.,\n",
              "       4., 5., 5., 5., 5., 5., 5., 5., 5., 1., 5., 5., 5., 4., 4., 4., 5.,\n",
              "       5., 1., 5., 4., 5., 4., 5., 5., 5., 5., 5., 4., 5., 4., 5., 5., 5.,\n",
              "       5., 5., 5., 1., 4., 5., 5., 5., 5., 4., 4., 4., 5., 5., 5., 5., 5.,\n",
              "       5., 5., 5., 4., 5., 5., 5., 4., 5., 5., 1., 5., 5., 5., 5., 5., 5.,\n",
              "       5., 5., 5., 5., 4., 5., 5., 4., 5., 5., 5., 4., 5., 4., 5., 5., 5.,\n",
              "       4., 5., 5., 5., 5., 5., 5., 1., 5., 5., 5., 5., 4., 4., 5., 5., 5.,\n",
              "       5., 5., 5., 4., 5., 5., 5., 5., 5., 5., 1., 5., 5., 5., 5., 5., 5.,\n",
              "       4., 5., 5., 4., 5., 5., 5., 5., 5., 5., 5., 4., 5., 5., 5., 5., 5.,\n",
              "       1., 5., 4., 5., 5., 5., 5., 4., 5., 5., 4., 5., 4., 5., 5., 5., 4.,\n",
              "       5., 5., 5., 5., 4., 5., 5., 5., 5., 4., 5., 5., 5., 4., 5., 5., 5.,\n",
              "       5., 4., 4., 4., 5., 4., 4., 5., 5., 5., 4., 5., 5., 5., 5., 5., 5.,\n",
              "       5., 4., 4., 5., 4., 1., 4., 5., 5., 4., 5., 5., 5., 5., 5., 5., 5.,\n",
              "       5., 5., 5., 5., 5., 5., 5., 5., 1., 5., 5., 5., 4., 1., 5., 5., 5.,\n",
              "       5., 5., 5., 5., 5., 4., 5., 4., 5., 5., 5., 4., 5., 5., 4., 5., 5.,\n",
              "       4., 5., 5., 5., 1., 1., 4., 5., 5., 5., 4., 5., 5.])"
            ]
          },
          "metadata": {
            "tags": []
          },
          "execution_count": 34
        }
      ]
    }
  ]
}