{
  "nbformat": 4,
  "nbformat_minor": 0,
  "metadata": {
    "colab": {
      "name": "Multi_Variable_ML_LR.ipynb",
      "version": "0.3.2",
      "provenance": [],
      "collapsed_sections": [],
      "include_colab_link": true
    },
    "language_info": {
      "codemirror_mode": {
        "name": "ipython",
        "version": 3
      },
      "file_extension": ".py",
      "mimetype": "text/x-python",
      "name": "python",
      "nbconvert_exporter": "python",
      "pygments_lexer": "ipython3",
      "version": "3.7.3"
    },
    "kernelspec": {
      "display_name": "Python 3",
      "language": "python",
      "name": "python3"
    }
  },
  "cells": [
    {
      "cell_type": "markdown",
      "metadata": {
        "id": "view-in-github",
        "colab_type": "text"
      },
      "source": [
        "<a href=\"https://colab.research.google.com/github/swarthyPig/Raspberry-Pi_DHT22_Weather_Station_with_correlation-and-ML/blob/master/machine%20learning/Multi_Variable_ML_LR.ipynb\" target=\"_parent\"><img src=\"https://colab.research.google.com/assets/colab-badge.svg\" alt=\"Open In Colab\"/></a>"
      ]
    },
    {
      "cell_type": "code",
      "metadata": {
        "colab_type": "code",
        "id": "kVkl87c4HR4p",
        "colab": {}
      },
      "source": [
        "import pandas as pd\n",
        "import numpy as np\n",
        "from pandas.io.parsers import read_csv\n",
        "import matplotlib.pyplot as plt\n",
        "%matplotlib inline\n",
        "\n",
        "data = read_csv('iot_data.csv', sep=',')\n",
        "\n",
        "#data = np.array(data, dtype=np.float32)"
      ],
      "execution_count": 0,
      "outputs": []
    },
    {
      "cell_type": "code",
      "metadata": {
        "id": "BCREbgHFQTUv",
        "colab_type": "code",
        "outputId": "943917ed-3fff-4d57-d5b4-9012365f0e66",
        "colab": {
          "base_uri": "https://localhost:8080/",
          "height": 179
        }
      },
      "source": [
        "data.info()"
      ],
      "execution_count": 0,
      "outputs": [
        {
          "output_type": "stream",
          "text": [
            "<class 'pandas.core.frame.DataFrame'>\n",
            "RangeIndex: 161 entries, 0 to 160\n",
            "Data columns (total 4 columns):\n",
            "Unnamed: 0     161 non-null int64\n",
            "temperature    161 non-null float64\n",
            "humidity       161 non-null float64\n",
            "cr             161 non-null float64\n",
            "dtypes: float64(3), int64(1)\n",
            "memory usage: 5.1 KB\n"
          ],
          "name": "stdout"
        }
      ]
    },
    {
      "cell_type": "code",
      "metadata": {
        "id": "qIUwD11GQTUz",
        "colab_type": "code",
        "outputId": "313c1492-99e1-4c04-ddc8-b7f2eb271502",
        "colab": {
          "base_uri": "https://localhost:8080/",
          "height": 204
        }
      },
      "source": [
        "data.head(5)"
      ],
      "execution_count": 0,
      "outputs": [
        {
          "output_type": "execute_result",
          "data": {
            "text/html": [
              "<div>\n",
              "<style scoped>\n",
              "    .dataframe tbody tr th:only-of-type {\n",
              "        vertical-align: middle;\n",
              "    }\n",
              "\n",
              "    .dataframe tbody tr th {\n",
              "        vertical-align: top;\n",
              "    }\n",
              "\n",
              "    .dataframe thead th {\n",
              "        text-align: right;\n",
              "    }\n",
              "</style>\n",
              "<table border=\"1\" class=\"dataframe\">\n",
              "  <thead>\n",
              "    <tr style=\"text-align: right;\">\n",
              "      <th></th>\n",
              "      <th>Unnamed: 0</th>\n",
              "      <th>temperature</th>\n",
              "      <th>humidity</th>\n",
              "      <th>cr</th>\n",
              "    </tr>\n",
              "  </thead>\n",
              "  <tbody>\n",
              "    <tr>\n",
              "      <th>0</th>\n",
              "      <td>301491</td>\n",
              "      <td>23.30</td>\n",
              "      <td>52.20</td>\n",
              "      <td>4.0</td>\n",
              "    </tr>\n",
              "    <tr>\n",
              "      <th>1</th>\n",
              "      <td>301492</td>\n",
              "      <td>22.55</td>\n",
              "      <td>50.60</td>\n",
              "      <td>5.0</td>\n",
              "    </tr>\n",
              "    <tr>\n",
              "      <th>2</th>\n",
              "      <td>301493</td>\n",
              "      <td>23.10</td>\n",
              "      <td>50.50</td>\n",
              "      <td>4.0</td>\n",
              "    </tr>\n",
              "    <tr>\n",
              "      <th>3</th>\n",
              "      <td>301494</td>\n",
              "      <td>21.90</td>\n",
              "      <td>53.45</td>\n",
              "      <td>5.0</td>\n",
              "    </tr>\n",
              "    <tr>\n",
              "      <th>4</th>\n",
              "      <td>301495</td>\n",
              "      <td>21.90</td>\n",
              "      <td>53.50</td>\n",
              "      <td>5.0</td>\n",
              "    </tr>\n",
              "  </tbody>\n",
              "</table>\n",
              "</div>"
            ],
            "text/plain": [
              "   Unnamed: 0  temperature  humidity   cr\n",
              "0      301491        23.30     52.20  4.0\n",
              "1      301492        22.55     50.60  5.0\n",
              "2      301493        23.10     50.50  4.0\n",
              "3      301494        21.90     53.45  5.0\n",
              "4      301495        21.90     53.50  5.0"
            ]
          },
          "metadata": {
            "tags": []
          },
          "execution_count": 8
        }
      ]
    },
    {
      "cell_type": "code",
      "metadata": {
        "id": "GGlc4B44QTU1",
        "colab_type": "code",
        "outputId": "3e93c927-c34d-4eb1-9b71-797ef8187744",
        "colab": {
          "base_uri": "https://localhost:8080/",
          "height": 204
        }
      },
      "source": [
        "df = data.iloc[:,1:]\n",
        "df.head()"
      ],
      "execution_count": 0,
      "outputs": [
        {
          "output_type": "execute_result",
          "data": {
            "text/html": [
              "<div>\n",
              "<style scoped>\n",
              "    .dataframe tbody tr th:only-of-type {\n",
              "        vertical-align: middle;\n",
              "    }\n",
              "\n",
              "    .dataframe tbody tr th {\n",
              "        vertical-align: top;\n",
              "    }\n",
              "\n",
              "    .dataframe thead th {\n",
              "        text-align: right;\n",
              "    }\n",
              "</style>\n",
              "<table border=\"1\" class=\"dataframe\">\n",
              "  <thead>\n",
              "    <tr style=\"text-align: right;\">\n",
              "      <th></th>\n",
              "      <th>temperature</th>\n",
              "      <th>humidity</th>\n",
              "      <th>cr</th>\n",
              "    </tr>\n",
              "  </thead>\n",
              "  <tbody>\n",
              "    <tr>\n",
              "      <th>0</th>\n",
              "      <td>23.30</td>\n",
              "      <td>52.20</td>\n",
              "      <td>4.0</td>\n",
              "    </tr>\n",
              "    <tr>\n",
              "      <th>1</th>\n",
              "      <td>22.55</td>\n",
              "      <td>50.60</td>\n",
              "      <td>5.0</td>\n",
              "    </tr>\n",
              "    <tr>\n",
              "      <th>2</th>\n",
              "      <td>23.10</td>\n",
              "      <td>50.50</td>\n",
              "      <td>4.0</td>\n",
              "    </tr>\n",
              "    <tr>\n",
              "      <th>3</th>\n",
              "      <td>21.90</td>\n",
              "      <td>53.45</td>\n",
              "      <td>5.0</td>\n",
              "    </tr>\n",
              "    <tr>\n",
              "      <th>4</th>\n",
              "      <td>21.90</td>\n",
              "      <td>53.50</td>\n",
              "      <td>5.0</td>\n",
              "    </tr>\n",
              "  </tbody>\n",
              "</table>\n",
              "</div>"
            ],
            "text/plain": [
              "   temperature  humidity   cr\n",
              "0        23.30     52.20  4.0\n",
              "1        22.55     50.60  5.0\n",
              "2        23.10     50.50  4.0\n",
              "3        21.90     53.45  5.0\n",
              "4        21.90     53.50  5.0"
            ]
          },
          "metadata": {
            "tags": []
          },
          "execution_count": 9
        }
      ]
    },
    {
      "cell_type": "code",
      "metadata": {
        "id": "RNog_0KiQTU4",
        "colab_type": "code",
        "outputId": "c5536504-5936-4411-ab94-42f00e7d4437",
        "colab": {
          "base_uri": "https://localhost:8080/",
          "height": 287
        }
      },
      "source": [
        "df[['temperature','humidity']].plot()"
      ],
      "execution_count": 0,
      "outputs": [
        {
          "output_type": "execute_result",
          "data": {
            "text/plain": [
              "<matplotlib.axes._subplots.AxesSubplot at 0x7fb178e25da0>"
            ]
          },
          "metadata": {
            "tags": []
          },
          "execution_count": 10
        },
        {
          "output_type": "display_data",
          "data": {
            "image/png": "[encoded data removed]",
            "text/plain": [
              "<Figure size 432x288 with 1 Axes>"
            ]
          },
          "metadata": {
            "tags": []
          }
        }
      ]
    },
    {
      "cell_type": "code",
      "metadata": {
        "id": "XpxbySgpQTU6",
        "colab_type": "code",
        "outputId": "01e3d846-56d4-4d2b-b11e-601d6a357a49",
        "colab": {
          "base_uri": "https://localhost:8080/",
          "height": 287
        }
      },
      "source": [
        "df['cr'].plot()"
      ],
      "execution_count": 0,
      "outputs": [
        {
          "output_type": "execute_result",
          "data": {
            "text/plain": [
              "<matplotlib.axes._subplots.AxesSubplot at 0x7fb176518048>"
            ]
          },
          "metadata": {
            "tags": []
          },
          "execution_count": 11
        },
        {
          "output_type": "display_data",
          "data": {
            "image/png": "[encoded data removed]",
            "text/plain": [
              "<Figure size 432x288 with 1 Axes>"
            ]
          },
          "metadata": {
            "tags": []
          }
        }
      ]
    },
    {
      "cell_type": "code",
      "metadata": {
        "id": "SSumuhBLQTU8",
        "colab_type": "code",
        "outputId": "2a81315a-8b07-4267-90ea-e6651d010036",
        "colab": {
          "base_uri": "https://localhost:8080/",
          "height": 301
        }
      },
      "source": [
        "df.plot.scatter(x='temperature', y='humidity', c='DarkBlue')"
      ],
      "execution_count": 0,
      "outputs": [
        {
          "output_type": "execute_result",
          "data": {
            "text/plain": [
              "<matplotlib.axes._subplots.AxesSubplot at 0x7fb176484cf8>"
            ]
          },
          "metadata": {
            "tags": []
          },
          "execution_count": 12
        },
        {
          "output_type": "display_data",
          "data": {
            "image/png": "[encoded data removed]",
            "text/plain": [
              "<Figure size 432x288 with 1 Axes>"
            ]
          },
          "metadata": {
            "tags": []
          }
        }
      ]
    },
    {
      "cell_type": "code",
      "metadata": {
        "id": "ATq0aZrEQTU_",
        "colab_type": "code",
        "outputId": "8f229a85-83b9-441a-b0c5-343f840134e5",
        "colab": {
          "base_uri": "https://localhost:8080/",
          "height": 301
        }
      },
      "source": [
        "df.plot.scatter(x='cr', y='temperature', c='DarkBlue')"
      ],
      "execution_count": 0,
      "outputs": [
        {
          "output_type": "execute_result",
          "data": {
            "text/plain": [
              "<matplotlib.axes._subplots.AxesSubplot at 0x7fb17644f908>"
            ]
          },
          "metadata": {
            "tags": []
          },
          "execution_count": 13
        },
        {
          "output_type": "display_data",
          "data": {
            "image/png": "[encoded data removed]",
            "text/plain": [
              "<Figure size 432x288 with 1 Axes>"
            ]
          },
          "metadata": {
            "tags": []
          }
        }
      ]
    },
    {
      "cell_type": "code",
      "metadata": {
        "id": "lzXu4hX3QTVB",
        "colab_type": "code",
        "outputId": "152d837e-2f1e-48c4-9fd6-011453fa83c4",
        "colab": {
          "base_uri": "https://localhost:8080/",
          "height": 301
        }
      },
      "source": [
        "df.plot.scatter(x='cr', y='humidity', c='DarkBlue')"
      ],
      "execution_count": 0,
      "outputs": [
        {
          "output_type": "execute_result",
          "data": {
            "text/plain": [
              "<matplotlib.axes._subplots.AxesSubplot at 0x7fb17645e978>"
            ]
          },
          "metadata": {
            "tags": []
          },
          "execution_count": 14
        },
        {
          "output_type": "display_data",
          "data": {
            "image/png": "[encoded data removed]",
            "text/plain": [
              "<Figure size 432x288 with 1 Axes>"
            ]
          },
          "metadata": {
            "tags": []
          }
        }
      ]
    },
    {
      "cell_type": "markdown",
      "metadata": {
        "id": "evnAKkZ9QTVE",
        "colab_type": "text"
      },
      "source": [
        "***"
      ]
    },
    {
      "cell_type": "markdown",
      "metadata": {
        "id": "S-Eqg4qmQTVF",
        "colab_type": "text"
      },
      "source": [
        "### Split data into train and test"
      ]
    },
    {
      "cell_type": "code",
      "metadata": {
        "id": "fj9BTqv8QTVK",
        "colab_type": "code",
        "colab": {}
      },
      "source": [
        "from sklearn.model_selection import train_test_split\n",
        "\n",
        "X_train, X_test, y_train, y_test = train_test_split(df[['temperature','humidity']], df['cr'], \n",
        "                                                    test_size=0.3, random_state=0)"
      ],
      "execution_count": 0,
      "outputs": []
    },
    {
      "cell_type": "markdown",
      "metadata": {
        "id": "rJkmbzZaQTVM",
        "colab_type": "text"
      },
      "source": [
        "## ML LR model"
      ]
    },
    {
      "cell_type": "markdown",
      "metadata": {
        "id": "Z7bkGV0gQTVM",
        "colab_type": "text"
      },
      "source": [
        "### Check parameters of model\n",
        "\n",
        "- W: W[0], W[1]\n",
        "- b\n",
        "\n",
        "> predicted CR = W[0] * T + W[1] * H + b\n"
      ]
    },
    {
      "cell_type": "code",
      "metadata": {
        "id": "gHNxRFPoQTVV",
        "colab_type": "code",
        "colab": {}
      },
      "source": [
        "from sklearn.metrics import r2_score\n",
        "from sklearn.metrics import mean_squared_error"
      ],
      "execution_count": 0,
      "outputs": []
    },
    {
      "cell_type": "code",
      "metadata": {
        "id": "JRrO11PbQTVW",
        "colab_type": "code",
        "outputId": "46230b5d-8df2-4b08-8c88-7915b386bd99",
        "colab": {
          "base_uri": "https://localhost:8080/",
          "height": 244
        }
      },
      "source": [
        "y_predict = model.predict(X_train) \n",
        "score = r2_score(y_train, y_predict)\n",
        "#score = mean_squared_error(y_train, y_predict) \n",
        "#score = np.sqrt(mean_squared_error(y_train, y_predict))\n",
        "#score = estimator.score(x_train, y_train) #내부에서 predict \n",
        "print(score) #1.0"
      ],
      "execution_count": 0,
      "outputs": [
        {
          "output_type": "error",
          "ename": "NameError",
          "evalue": "ignored",
          "traceback": [
            "\u001b[0;31m---------------------------------------------------------------------------\u001b[0m",
            "\u001b[0;31mNameError\u001b[0m                                 Traceback (most recent call last)",
            "\u001b[0;32m<ipython-input-18-79a19f923a44>\u001b[0m in \u001b[0;36m<module>\u001b[0;34m()\u001b[0m\n\u001b[0;32m----> 1\u001b[0;31m \u001b[0my_predict\u001b[0m \u001b[0;34m=\u001b[0m \u001b[0mmodel\u001b[0m\u001b[0;34m.\u001b[0m\u001b[0mpredict\u001b[0m\u001b[0;34m(\u001b[0m\u001b[0mX_train\u001b[0m\u001b[0;34m)\u001b[0m\u001b[0;34m\u001b[0m\u001b[0;34m\u001b[0m\u001b[0m\n\u001b[0m\u001b[1;32m      2\u001b[0m \u001b[0mscore\u001b[0m \u001b[0;34m=\u001b[0m \u001b[0mr2_score\u001b[0m\u001b[0;34m(\u001b[0m\u001b[0my_train\u001b[0m\u001b[0;34m,\u001b[0m \u001b[0my_predict\u001b[0m\u001b[0;34m)\u001b[0m\u001b[0;34m\u001b[0m\u001b[0;34m\u001b[0m\u001b[0m\n\u001b[1;32m      3\u001b[0m \u001b[0;31m#score = mean_squared_error(y_train, y_predict)\u001b[0m\u001b[0;34m\u001b[0m\u001b[0;34m\u001b[0m\u001b[0;34m\u001b[0m\u001b[0m\n\u001b[1;32m      4\u001b[0m \u001b[0;31m#score = np.sqrt(mean_squared_error(y_train, y_predict))\u001b[0m\u001b[0;34m\u001b[0m\u001b[0;34m\u001b[0m\u001b[0;34m\u001b[0m\u001b[0m\n\u001b[1;32m      5\u001b[0m \u001b[0;31m#score = estimator.score(x_train, y_train) #내부에서 predict\u001b[0m\u001b[0;34m\u001b[0m\u001b[0;34m\u001b[0m\u001b[0;34m\u001b[0m\u001b[0m\n",
            "\u001b[0;31mNameError\u001b[0m: name 'model' is not defined"
          ]
        }
      ]
    },
    {
      "cell_type": "code",
      "metadata": {
        "id": "oKmJOCdJQTVY",
        "colab_type": "code",
        "outputId": "0d510619-e039-4abc-d047-7dfe6ba65caf",
        "colab": {}
      },
      "source": [
        "y_predict = model.predict(X_test) \n",
        "score = r2_score(y_test, y_predict)\n",
        "#score = mean_squared_error(y_test, y_predict) \n",
        "#score = np.sqrt(mean_squared_error(y_test, y_predict)) \n",
        "#score = estimator.score(x_test, y_test)\n",
        "print(score) #1.0"
      ],
      "execution_count": 0,
      "outputs": [
        {
          "output_type": "stream",
          "text": [
            "0.9112236894453414\n"
          ],
          "name": "stdout"
        }
      ]
    },
    {
      "cell_type": "code",
      "metadata": {
        "id": "NInpCRgTQTVb",
        "colab_type": "code",
        "outputId": "aa477f00-8e9c-467d-c300-87a3ff13a873",
        "colab": {}
      },
      "source": [
        "# 선형 회기 모델의 정확도(R^2)\n",
        "\n",
        "print(\"트레인 세트의 정확도: {:.2f}\".format(model.score(X_train, y_train)))\n",
        "print(\"테스트 세트의 정확도: {:.2f}\".format(model.score(X_test, y_test)))"
      ],
      "execution_count": 0,
      "outputs": [
        {
          "output_type": "stream",
          "text": [
            "트레인 세트의 정확도: 0.74\n",
            "테스트 세트의 정확도: 0.91\n"
          ],
          "name": "stdout"
        }
      ]
    },
    {
      "cell_type": "markdown",
      "metadata": {
        "id": "lx3jW7kNQTVi",
        "colab_type": "text"
      },
      "source": [
        "## Logistic regression"
      ]
    },
    {
      "cell_type": "code",
      "metadata": {
        "id": "IfWWTlLbQTVi",
        "colab_type": "code",
        "colab": {}
      },
      "source": [
        "from sklearn.linear_model import LogisticRegression"
      ],
      "execution_count": 0,
      "outputs": []
    },
    {
      "cell_type": "code",
      "metadata": {
        "id": "FsvSGrEFQTVm",
        "colab_type": "code",
        "outputId": "db897a28-bd96-4cef-eee3-1ad0f7ee0d97",
        "colab": {
          "base_uri": "https://localhost:8080/",
          "height": 89
        }
      },
      "source": [
        "log_clf = LogisticRegression(solver='lbfgs', multi_class='auto', max_iter=1000)\n",
        "log_clf.fit(X_train,y_train)"
      ],
      "execution_count": 0,
      "outputs": [
        {
          "output_type": "execute_result",
          "data": {
            "text/plain": [
              "LogisticRegression(C=1.0, class_weight=None, dual=False, fit_intercept=True,\n",
              "          intercept_scaling=1, max_iter=1000, multi_class='auto',\n",
              "          n_jobs=None, penalty='l2', random_state=None, solver='lbfgs',\n",
              "          tol=0.0001, verbose=0, warm_start=False)"
            ]
          },
          "metadata": {
            "tags": []
          },
          "execution_count": 20
        }
      ]
    },
    {
      "cell_type": "code",
      "metadata": {
        "id": "3oXIawwKQTVq",
        "colab_type": "code",
        "outputId": "aab004a4-b847-4b6d-f631-4fc8b792f5fb",
        "colab": {
          "base_uri": "https://localhost:8080/",
          "height": 35
        }
      },
      "source": [
        "log_clf.score(X_test, y_test)"
      ],
      "execution_count": 0,
      "outputs": [
        {
          "output_type": "execute_result",
          "data": {
            "text/plain": [
              "0.7142857142857143"
            ]
          },
          "metadata": {
            "tags": []
          },
          "execution_count": 21
        }
      ]
    },
    {
      "cell_type": "code",
      "metadata": {
        "id": "ixWmeUtfQTVs",
        "colab_type": "code",
        "outputId": "39e3d0d3-97e8-4a4a-a11f-f90608198aaa",
        "colab": {
          "base_uri": "https://localhost:8080/",
          "height": 971
        }
      },
      "source": [
        "log_clf.predict(X_test),y_test"
      ],
      "execution_count": 0,
      "outputs": [
        {
          "output_type": "execute_result",
          "data": {
            "text/plain": [
              "(array([5., 5., 5., 1., 3., 5., 5., 3., 1., 5., 5., 3., 5., 1., 1., 4., 5.,\n",
              "        5., 5., 5., 3., 3., 1., 1., 3., 3., 5., 3., 1., 5., 5., 2., 5., 5.,\n",
              "        1., 5., 5., 5., 4., 5., 2., 5., 1., 5., 3., 5., 3., 5., 3.]),\n",
              " 111    5.0\n",
              " 113    5.0\n",
              " 144    5.0\n",
              " 7      1.0\n",
              " 44     3.0\n",
              " 106    5.0\n",
              " 123    5.0\n",
              " 66     4.0\n",
              " 85     2.0\n",
              " 86     5.0\n",
              " 134    5.0\n",
              " 92     2.0\n",
              " 26     5.0\n",
              " 147    2.0\n",
              " 159    2.0\n",
              " 62     4.0\n",
              " 51     5.0\n",
              " 97     5.0\n",
              " 129    5.0\n",
              " 90     5.0\n",
              " 45     3.0\n",
              " 56     3.0\n",
              " 59     1.0\n",
              " 8      1.0\n",
              " 37     3.0\n",
              " 33     3.0\n",
              " 148    5.0\n",
              " 61     3.0\n",
              " 98     1.0\n",
              " 122    5.0\n",
              " 136    5.0\n",
              " 24     2.0\n",
              " 54     3.0\n",
              " 80     5.0\n",
              " 19     1.0\n",
              " 74     5.0\n",
              " 132    4.0\n",
              " 16     5.0\n",
              " 60     4.0\n",
              " 120    3.0\n",
              " 40     2.0\n",
              " 22     4.0\n",
              " 63     2.0\n",
              " 152    4.0\n",
              " 112    2.0\n",
              " 146    5.0\n",
              " 100    2.0\n",
              " 27     5.0\n",
              " 119    2.0\n",
              " Name: cr, dtype: float64)"
            ]
          },
          "metadata": {
            "tags": []
          },
          "execution_count": 22
        }
      ]
    },
    {
      "cell_type": "code",
      "metadata": {
        "id": "1lLr1sv1QTVv",
        "colab_type": "code",
        "outputId": "414975d4-1ca9-41fa-cf7e-df475edddfb0",
        "colab": {
          "base_uri": "https://localhost:8080/",
          "height": 53
        }
      },
      "source": [
        "# 로지스틱 회기 모델의 정확도(R^2)\n",
        "\n",
        "print(\"트레인 세트의 정확도: {:.2f}\".format(log_clf.score(X_train, y_train)))\n",
        "print(\"테스트 세트의 정확도: {:.2f}\".format(log_clf.score(X_test, y_test)))"
      ],
      "execution_count": 0,
      "outputs": [
        {
          "output_type": "stream",
          "text": [
            "트레인 세트의 정확도: 0.71\n",
            "테스트 세트의 정확도: 0.71\n"
          ],
          "name": "stdout"
        }
      ]
    },
    {
      "cell_type": "code",
      "metadata": {
        "id": "UAYpEfjLQTVx",
        "colab_type": "code",
        "outputId": "b037f374-70cd-4270-f958-b7b1d1920878",
        "colab": {
          "base_uri": "https://localhost:8080/",
          "height": 143
        }
      },
      "source": [
        "log_clf.coef_,log_clf.intercept_"
      ],
      "execution_count": 0,
      "outputs": [
        {
          "output_type": "execute_result",
          "data": {
            "text/plain": [
              "(array([[ 1.65728969, -0.03115724],\n",
              "        [ 1.19671072,  0.03061557],\n",
              "        [ 0.31309983,  0.02833144],\n",
              "        [-0.32642968, -0.02258204],\n",
              "        [-2.84067054, -0.00520551]]),\n",
              " array([-39.22732417, -30.24251557,  -7.51091871,   9.69594284,\n",
              "         67.28481561]))"
            ]
          },
          "metadata": {
            "tags": []
          },
          "execution_count": 24
        }
      ]
    },
    {
      "cell_type": "code",
      "metadata": {
        "id": "cbtV8AnUQTVz",
        "colab_type": "code",
        "colab": {}
      },
      "source": [
        "import json"
      ],
      "execution_count": 0,
      "outputs": []
    },
    {
      "cell_type": "code",
      "metadata": {
        "id": "-63ACoqmQTV1",
        "colab_type": "code",
        "outputId": "ed3cc66d-24bc-4464-b186-21625ab32266",
        "colab": {
          "base_uri": "https://localhost:8080/",
          "height": 55
        }
      },
      "source": [
        "# serialize coefficients (imitate loading from storage)\n",
        "encoded = json.dumps((log_clf.coef_.tolist(), log_clf.intercept_.tolist(), log_clf.penalty, log_clf.C))\n",
        "print(encoded)"
      ],
      "execution_count": 0,
      "outputs": [
        {
          "output_type": "stream",
          "text": [
            "[[[1.6572896933860282, -0.031157237419954267], [1.196710724233508, 0.030615571884596158], [0.31309983405922104, 0.028331439442539824], [-0.3264296809209939, -0.02258204194709375], [-2.8406705415862694, -0.005205513442119773]], [-39.227324174843645, -30.24251556911206, -7.510918706939839, 9.69594284465319, 67.28481560668303], \"l2\", 1.0]\n"
          ],
          "name": "stdout"
        }
      ]
    },
    {
      "cell_type": "markdown",
      "metadata": {
        "id": "bFsZc8IlQTV4",
        "colab_type": "text"
      },
      "source": [
        "### Save model (Logistic regression)"
      ]
    },
    {
      "cell_type": "code",
      "metadata": {
        "id": "bO0sU5iPQTV4",
        "colab_type": "code",
        "outputId": "a1a0034e-f0ee-42da-bde3-ca385cc802ba",
        "colab": {}
      },
      "source": [
        "from sklearn.externals import joblib\n",
        "# save the model to disk\n",
        "filename = 'logi_model.sav'\n",
        "joblib.dump(log_clf, filename)\n",
        " "
      ],
      "execution_count": 0,
      "outputs": [
        {
          "output_type": "execute_result",
          "data": {
            "text/plain": [
              "['logi_model.sav']"
            ]
          },
          "metadata": {
            "tags": []
          },
          "execution_count": 99
        }
      ]
    },
    {
      "cell_type": "markdown",
      "metadata": {
        "id": "nJJNl3OjQTV7",
        "colab_type": "text"
      },
      "source": [
        "### How to use parameters of logistic regression"
      ]
    },
    {
      "cell_type": "code",
      "metadata": {
        "id": "0gMmNbt7QTV7",
        "colab_type": "code",
        "outputId": "e32af4ad-49d7-446b-da14-40e33556e1c0",
        "colab": {
          "base_uri": "https://localhost:8080/",
          "height": 71
        }
      },
      "source": [
        "X_test.shape, X_test.iloc[0][0],X_test.iloc[0][1],X_test.iloc[0]"
      ],
      "execution_count": 0,
      "outputs": [
        {
          "output_type": "execute_result",
          "data": {
            "text/plain": [
              "((49, 2), 22.1, 41.67, temperature    22.10\n",
              " humidity       41.67\n",
              " Name: 111, dtype: float64)"
            ]
          },
          "metadata": {
            "tags": []
          },
          "execution_count": 27
        }
      ]
    },
    {
      "cell_type": "code",
      "metadata": {
        "id": "dHlESY9_QTV9",
        "colab_type": "code",
        "colab": {}
      },
      "source": [
        "# def sigmoid(x):\n",
        "#     return 1 / (1 + np.exp(-x))\n",
        "\n",
        "# sigmoid(X_test * log_clf.coef_ + log_clf.intercept_).ravel()"
      ],
      "execution_count": 0,
      "outputs": []
    },
    {
      "cell_type": "code",
      "metadata": {
        "id": "ByxXJKgXQTV_",
        "colab_type": "code",
        "colab": {}
      },
      "source": [
        "# Compatibility layer between Python 2 and Python 3\n",
        "from __future__ import print_function\n",
        "import seaborn as sns\n",
        "from scipy import stats\n",
        "\n",
        "from sklearn import metrics\n",
        "from sklearn.metrics import classification_report\n",
        "from sklearn import preprocessing"
      ],
      "execution_count": 0,
      "outputs": []
    },
    {
      "cell_type": "code",
      "metadata": {
        "id": "O53iwk6mQTWB",
        "colab_type": "code",
        "colab": {}
      },
      "source": [
        "def show_confusion_matrix(validations, predictions):\n",
        "\n",
        "    matrix = metrics.confusion_matrix(validations, predictions)\n",
        "    plt.figure(figsize=(8, 8))\n",
        "    sns.heatmap(matrix,\n",
        "                cmap=\"coolwarm\",\n",
        "                linecolor='white',\n",
        "                linewidths=1,\n",
        "                xticklabels=LABELS,\n",
        "                yticklabels=LABELS,\n",
        "                annot=True,\n",
        "                fmt=\"d\")\n",
        "    plt.title(\"Confusion Matrix\")\n",
        "    plt.ylabel(\"True Label\")\n",
        "    plt.xlabel(\"Predicted Label\")\n",
        "    plt.show()"
      ],
      "execution_count": 0,
      "outputs": []
    },
    {
      "cell_type": "code",
      "metadata": {
        "id": "ETJnUcuzQTWC",
        "colab_type": "code",
        "colab": {}
      },
      "source": [
        "# Parameters of data\n",
        "LABELS = [\"1\", \n",
        "          \"2\", \n",
        "          \"3\", \n",
        "          \"4\",\n",
        "          \"5\"]"
      ],
      "execution_count": 0,
      "outputs": []
    },
    {
      "cell_type": "code",
      "metadata": {
        "id": "Obt09PCdQTWF",
        "colab_type": "code",
        "outputId": "fd8f85ab-8e63-4776-cd6f-9c859b66b387",
        "colab": {
          "base_uri": "https://localhost:8080/",
          "height": 855
        }
      },
      "source": [
        "# Confusion matrix for test data\n",
        "print(\"\\n--- Confusion matrix for test data ---\\n\")\n",
        "\n",
        "y_pred_test = log_clf.predict(X_test)\n",
        "# Take the class with the highest probability from the test predictions\n",
        "\n",
        "\n",
        "show_confusion_matrix(y_test.values, y_pred_test)\n",
        "\n",
        "# %%\n",
        "\n",
        "print(\"\\n\\n--- Classification report for test data ---\\n\")\n",
        "\n",
        "print(classification_report(y_test.values, y_pred_test))"
      ],
      "execution_count": 0,
      "outputs": [
        {
          "output_type": "stream",
          "text": [
            "\n",
            "--- Confusion matrix for test data ---\n",
            "\n"
          ],
          "name": "stdout"
        },
        {
          "output_type": "display_data",
          "data": {
            "image/png": "[encoded data removed]",
            "text/plain": [
              "<Figure size 576x576 with 2 Axes>"
            ]
          },
          "metadata": {
            "tags": []
          }
        },
        {
          "output_type": "stream",
          "text": [
            "\n",
            "\n",
            "--- Classification report for test data ---\n",
            "\n",
            "              precision    recall  f1-score   support\n",
            "\n",
            "         1.0       0.56      1.00      0.71         5\n",
            "         2.0       1.00      0.20      0.33        10\n",
            "         3.0       0.55      0.75      0.63         8\n",
            "         4.0       1.00      0.33      0.50         6\n",
            "         5.0       0.80      1.00      0.89        20\n",
            "\n",
            "   micro avg       0.71      0.71      0.71        49\n",
            "   macro avg       0.78      0.66      0.61        49\n",
            "weighted avg       0.80      0.71      0.67        49\n",
            "\n"
          ],
          "name": "stdout"
        }
      ]
    },
    {
      "cell_type": "code",
      "metadata": {
        "id": "GpL-Yb6AQTWH",
        "colab_type": "code",
        "outputId": "112e3f33-dab1-42ca-8b3c-1c8f662d746c",
        "colab": {
          "base_uri": "https://localhost:8080/",
          "height": 71
        }
      },
      "source": [
        "y_test.values"
      ],
      "execution_count": 0,
      "outputs": [
        {
          "output_type": "execute_result",
          "data": {
            "text/plain": [
              "array([5., 5., 5., 1., 3., 5., 5., 4., 2., 5., 5., 2., 5., 2., 2., 4., 5.,\n",
              "       5., 5., 5., 3., 3., 1., 1., 3., 3., 5., 3., 1., 5., 5., 2., 3., 5.,\n",
              "       1., 5., 4., 5., 4., 3., 2., 4., 2., 4., 2., 5., 2., 5., 2.])"
            ]
          },
          "metadata": {
            "tags": []
          },
          "execution_count": 32
        }
      ]
    },
    {
      "cell_type": "code",
      "metadata": {
        "id": "ra4eYSI-QTWJ",
        "colab_type": "code",
        "outputId": "2beaafbc-a3c3-47c4-a18a-a5dbfaca386b",
        "colab": {
          "base_uri": "https://localhost:8080/",
          "height": 71
        }
      },
      "source": [
        "y_pred_test"
      ],
      "execution_count": 0,
      "outputs": [
        {
          "output_type": "execute_result",
          "data": {
            "text/plain": [
              "array([5., 5., 5., 1., 3., 5., 5., 3., 1., 5., 5., 3., 5., 1., 1., 4., 5.,\n",
              "       5., 5., 5., 3., 3., 1., 1., 3., 3., 5., 3., 1., 5., 5., 2., 5., 5.,\n",
              "       1., 5., 5., 5., 4., 5., 2., 5., 1., 5., 3., 5., 3., 5., 3.])"
            ]
          },
          "metadata": {
            "tags": []
          },
          "execution_count": 33
        }
      ]
    },
    {
      "cell_type": "code",
      "metadata": {
        "id": "_oonTE5tQTWK",
        "colab_type": "code",
        "colab": {}
      },
      "source": [
        ""
      ],
      "execution_count": 0,
      "outputs": []
    }
  ]
}