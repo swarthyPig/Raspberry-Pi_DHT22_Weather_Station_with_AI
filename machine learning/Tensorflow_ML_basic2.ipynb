{
  "nbformat": 4,
  "nbformat_minor": 0,
  "metadata": {
    "colab": {
      "name": "Tensorflow_ML_basic2.ipynb",
      "version": "0.3.2",
      "provenance": [],
      "collapsed_sections": [],
      "include_colab_link": true
    },
    "language_info": {
      "codemirror_mode": {
        "name": "ipython",
        "version": 3
      },
      "file_extension": ".py",
      "mimetype": "text/x-python",
      "name": "python",
      "nbconvert_exporter": "python",
      "pygments_lexer": "ipython3",
      "version": "3.7.3"
    },
    "kernelspec": {
      "display_name": "Python 3",
      "language": "python",
      "name": "python3"
    }
  },
  "cells": [
    {
      "cell_type": "markdown",
      "metadata": {
        "id": "view-in-github",
        "colab_type": "text"
      },
      "source": [
        "<a href=\"https://colab.research.google.com/github/swarthyPig/Raspberry-Pi_DHT22_Weather_Station_with_AI/blob/master/machine%20learning/Tensorflow_ML_basic2.ipynb\" target=\"_parent\"><img src=\"https://colab.research.google.com/assets/colab-badge.svg\" alt=\"Open In Colab\"/></a>"
      ]
    },
    {
      "cell_type": "code",
      "metadata": {
        "colab_type": "code",
        "id": "kVkl87c4HR4p",
        "colab": {}
      },
      "source": [
        "import pandas as pd\n",
        "import numpy as np\n",
        "from pandas.io.parsers import read_csv\n",
        "import matplotlib.pyplot as plt\n",
        "%matplotlib inline\n",
        "\n",
        "data = read_csv('iot_data.csv', sep=',')\n",
        "\n",
        "#data = np.array(data, dtype=np.float32)"
      ],
      "execution_count": 0,
      "outputs": []
    },
    {
      "cell_type": "code",
      "metadata": {
        "id": "BCREbgHFQTUv",
        "colab_type": "code",
        "outputId": "ef412b4a-b497-40c2-8a3a-db1ea00f63e4",
        "colab": {
          "base_uri": "https://localhost:8080/",
          "height": 163
        }
      },
      "source": [
        "data.info()"
      ],
      "execution_count": 2,
      "outputs": [
        {
          "output_type": "stream",
          "text": [
            "<class 'pandas.core.frame.DataFrame'>\n",
            "RangeIndex: 1628 entries, 0 to 1627\n",
            "Data columns (total 3 columns):\n",
            "temperature    1628 non-null float64\n",
            "humidity       1628 non-null float64\n",
            "cr             1628 non-null float64\n",
            "dtypes: float64(3)\n",
            "memory usage: 38.2 KB\n"
          ],
          "name": "stdout"
        }
      ]
    },
    {
      "cell_type": "code",
      "metadata": {
        "id": "qIUwD11GQTUz",
        "colab_type": "code",
        "outputId": "ff16320f-4b8b-4980-f37d-f9693a52233a",
        "colab": {
          "base_uri": "https://localhost:8080/",
          "height": 198
        }
      },
      "source": [
        "data.head(5)"
      ],
      "execution_count": 26,
      "outputs": [
        {
          "output_type": "execute_result",
          "data": {
            "text/html": [
              "<div>\n",
              "<style scoped>\n",
              "    .dataframe tbody tr th:only-of-type {\n",
              "        vertical-align: middle;\n",
              "    }\n",
              "\n",
              "    .dataframe tbody tr th {\n",
              "        vertical-align: top;\n",
              "    }\n",
              "\n",
              "    .dataframe thead th {\n",
              "        text-align: right;\n",
              "    }\n",
              "</style>\n",
              "<table border=\"1\" class=\"dataframe\">\n",
              "  <thead>\n",
              "    <tr style=\"text-align: right;\">\n",
              "      <th></th>\n",
              "      <th>temperature</th>\n",
              "      <th>humidity</th>\n",
              "      <th>cr</th>\n",
              "    </tr>\n",
              "  </thead>\n",
              "  <tbody>\n",
              "    <tr>\n",
              "      <th>0</th>\n",
              "      <td>21.40</td>\n",
              "      <td>52.20</td>\n",
              "      <td>4.0</td>\n",
              "    </tr>\n",
              "    <tr>\n",
              "      <th>1</th>\n",
              "      <td>22.55</td>\n",
              "      <td>50.60</td>\n",
              "      <td>5.0</td>\n",
              "    </tr>\n",
              "    <tr>\n",
              "      <th>2</th>\n",
              "      <td>22.50</td>\n",
              "      <td>50.50</td>\n",
              "      <td>4.0</td>\n",
              "    </tr>\n",
              "    <tr>\n",
              "      <th>3</th>\n",
              "      <td>21.90</td>\n",
              "      <td>53.45</td>\n",
              "      <td>5.0</td>\n",
              "    </tr>\n",
              "    <tr>\n",
              "      <th>4</th>\n",
              "      <td>21.90</td>\n",
              "      <td>53.50</td>\n",
              "      <td>5.0</td>\n",
              "    </tr>\n",
              "  </tbody>\n",
              "</table>\n",
              "</div>"
            ],
            "text/plain": [
              "   temperature  humidity   cr\n",
              "0        21.40     52.20  4.0\n",
              "1        22.55     50.60  5.0\n",
              "2        22.50     50.50  4.0\n",
              "3        21.90     53.45  5.0\n",
              "4        21.90     53.50  5.0"
            ]
          },
          "metadata": {
            "tags": []
          },
          "execution_count": 26
        }
      ]
    },
    {
      "cell_type": "code",
      "metadata": {
        "id": "GGlc4B44QTU1",
        "colab_type": "code",
        "outputId": "d11742a7-b8ca-4aab-ce4f-546823df0216",
        "colab": {
          "base_uri": "https://localhost:8080/",
          "height": 198
        }
      },
      "source": [
        "df = data.iloc[:,0:3]\n",
        "df.head()"
      ],
      "execution_count": 31,
      "outputs": [
        {
          "output_type": "execute_result",
          "data": {
            "text/html": [
              "<div>\n",
              "<style scoped>\n",
              "    .dataframe tbody tr th:only-of-type {\n",
              "        vertical-align: middle;\n",
              "    }\n",
              "\n",
              "    .dataframe tbody tr th {\n",
              "        vertical-align: top;\n",
              "    }\n",
              "\n",
              "    .dataframe thead th {\n",
              "        text-align: right;\n",
              "    }\n",
              "</style>\n",
              "<table border=\"1\" class=\"dataframe\">\n",
              "  <thead>\n",
              "    <tr style=\"text-align: right;\">\n",
              "      <th></th>\n",
              "      <th>temperature</th>\n",
              "      <th>humidity</th>\n",
              "      <th>cr</th>\n",
              "    </tr>\n",
              "  </thead>\n",
              "  <tbody>\n",
              "    <tr>\n",
              "      <th>0</th>\n",
              "      <td>21.40</td>\n",
              "      <td>52.20</td>\n",
              "      <td>4.0</td>\n",
              "    </tr>\n",
              "    <tr>\n",
              "      <th>1</th>\n",
              "      <td>22.55</td>\n",
              "      <td>50.60</td>\n",
              "      <td>5.0</td>\n",
              "    </tr>\n",
              "    <tr>\n",
              "      <th>2</th>\n",
              "      <td>22.50</td>\n",
              "      <td>50.50</td>\n",
              "      <td>4.0</td>\n",
              "    </tr>\n",
              "    <tr>\n",
              "      <th>3</th>\n",
              "      <td>21.90</td>\n",
              "      <td>53.45</td>\n",
              "      <td>5.0</td>\n",
              "    </tr>\n",
              "    <tr>\n",
              "      <th>4</th>\n",
              "      <td>21.90</td>\n",
              "      <td>53.50</td>\n",
              "      <td>5.0</td>\n",
              "    </tr>\n",
              "  </tbody>\n",
              "</table>\n",
              "</div>"
            ],
            "text/plain": [
              "   temperature  humidity   cr\n",
              "0        21.40     52.20  4.0\n",
              "1        22.55     50.60  5.0\n",
              "2        22.50     50.50  4.0\n",
              "3        21.90     53.45  5.0\n",
              "4        21.90     53.50  5.0"
            ]
          },
          "metadata": {
            "tags": []
          },
          "execution_count": 31
        }
      ]
    },
    {
      "cell_type": "code",
      "metadata": {
        "id": "RNog_0KiQTU4",
        "colab_type": "code",
        "outputId": "bb57857f-c740-400c-9a0e-eff827054e27",
        "colab": {
          "base_uri": "https://localhost:8080/",
          "height": 287
        }
      },
      "source": [
        "df[['temperature','humidity']].plot()"
      ],
      "execution_count": 32,
      "outputs": [
        {
          "output_type": "execute_result",
          "data": {
            "text/plain": [
              "<matplotlib.axes._subplots.AxesSubplot at 0x7f5c9b616240>"
            ]
          },
          "metadata": {
            "tags": []
          },
          "execution_count": 32
        },
        {
          "output_type": "display_data",
          "data": {
            "image/png": "[encoded data removed]",
            "text/plain": [
              "<Figure size 432x288 with 1 Axes>"
            ]
          },
          "metadata": {
            "tags": []
          }
        }
      ]
    },
    {
      "cell_type": "code",
      "metadata": {
        "id": "XpxbySgpQTU6",
        "colab_type": "code",
        "outputId": "6f75d29a-2b62-48a0-a4cf-9ec1c14b5aba",
        "colab": {
          "base_uri": "https://localhost:8080/",
          "height": 287
        }
      },
      "source": [
        "df['cr'].plot()"
      ],
      "execution_count": 33,
      "outputs": [
        {
          "output_type": "execute_result",
          "data": {
            "text/plain": [
              "<matplotlib.axes._subplots.AxesSubplot at 0x7f5c9b570e48>"
            ]
          },
          "metadata": {
            "tags": []
          },
          "execution_count": 33
        },
        {
          "output_type": "display_data",
          "data": {
            "image/png": "[encoded data removed]",
            "text/plain": [
              "<Figure size 432x288 with 1 Axes>"
            ]
          },
          "metadata": {
            "tags": []
          }
        }
      ]
    },
    {
      "cell_type": "code",
      "metadata": {
        "id": "SSumuhBLQTU8",
        "colab_type": "code",
        "outputId": "dd95e3b7-6068-42f7-a665-99d6e191f908",
        "colab": {
          "base_uri": "https://localhost:8080/",
          "height": 302
        }
      },
      "source": [
        "df.plot.scatter(x='temperature', y='humidity', c='DarkBlue')"
      ],
      "execution_count": 34,
      "outputs": [
        {
          "output_type": "execute_result",
          "data": {
            "text/plain": [
              "<matplotlib.axes._subplots.AxesSubplot at 0x7f5c98cd4ac8>"
            ]
          },
          "metadata": {
            "tags": []
          },
          "execution_count": 34
        },
        {
          "output_type": "display_data",
          "data": {
            "image/png": "[encoded data removed]",
            "text/plain": [
              "<Figure size 432x288 with 1 Axes>"
            ]
          },
          "metadata": {
            "tags": []
          }
        }
      ]
    },
    {
      "cell_type": "code",
      "metadata": {
        "id": "ATq0aZrEQTU_",
        "colab_type": "code",
        "outputId": "f89b35ec-747f-4dbd-f476-4ac6c9f3478b",
        "colab": {
          "base_uri": "https://localhost:8080/",
          "height": 302
        }
      },
      "source": [
        "df.plot.scatter(x='cr', y='temperature', c='DarkBlue')"
      ],
      "execution_count": 35,
      "outputs": [
        {
          "output_type": "execute_result",
          "data": {
            "text/plain": [
              "<matplotlib.axes._subplots.AxesSubplot at 0x7f5c98c51e10>"
            ]
          },
          "metadata": {
            "tags": []
          },
          "execution_count": 35
        },
        {
          "output_type": "display_data",
          "data": {
            "image/png": "[encoded data removed]",
            "text/plain": [
              "<Figure size 432x288 with 1 Axes>"
            ]
          },
          "metadata": {
            "tags": []
          }
        }
      ]
    },
    {
      "cell_type": "code",
      "metadata": {
        "id": "lzXu4hX3QTVB",
        "colab_type": "code",
        "outputId": "120a34ba-7e1b-4cdc-af53-65e3fab412d2",
        "colab": {
          "base_uri": "https://localhost:8080/",
          "height": 302
        }
      },
      "source": [
        "df.plot.scatter(x='cr', y='humidity', c='DarkBlue')"
      ],
      "execution_count": 36,
      "outputs": [
        {
          "output_type": "execute_result",
          "data": {
            "text/plain": [
              "<matplotlib.axes._subplots.AxesSubplot at 0x7f5c98c7d780>"
            ]
          },
          "metadata": {
            "tags": []
          },
          "execution_count": 36
        },
        {
          "output_type": "display_data",
          "data": {
            "image/png": "[encoded data removed]",
            "text/plain": [
              "<Figure size 432x288 with 1 Axes>"
            ]
          },
          "metadata": {
            "tags": []
          }
        }
      ]
    },
    {
      "cell_type": "markdown",
      "metadata": {
        "id": "evnAKkZ9QTVE",
        "colab_type": "text"
      },
      "source": [
        "***"
      ]
    },
    {
      "cell_type": "markdown",
      "metadata": {
        "id": "S-Eqg4qmQTVF",
        "colab_type": "text"
      },
      "source": [
        "### Split data into train and test"
      ]
    },
    {
      "cell_type": "code",
      "metadata": {
        "id": "fj9BTqv8QTVK",
        "colab_type": "code",
        "colab": {}
      },
      "source": [
        "from sklearn.model_selection import train_test_split\n",
        "\n",
        "X_train, X_test, y_train, y_test = train_test_split(df[['temperature','humidity']], df['cr'], \n",
        "                                                    test_size=0.3, random_state=0)"
      ],
      "execution_count": 0,
      "outputs": []
    },
    {
      "cell_type": "markdown",
      "metadata": {
        "id": "rJkmbzZaQTVM",
        "colab_type": "text"
      },
      "source": [
        "## ML LR model"
      ]
    },
    {
      "cell_type": "markdown",
      "metadata": {
        "id": "Z7bkGV0gQTVM",
        "colab_type": "text"
      },
      "source": [
        "### Check parameters of model\n",
        "\n",
        "- W: W[0], W[1]\n",
        "- b\n",
        "\n",
        "> predicted CR = W[0] * T + W[1] * H + b\n"
      ]
    },
    {
      "cell_type": "code",
      "metadata": {
        "id": "gHNxRFPoQTVV",
        "colab_type": "code",
        "colab": {}
      },
      "source": [
        "from sklearn.metrics import r2_score\n",
        "from sklearn.metrics import mean_squared_error"
      ],
      "execution_count": 0,
      "outputs": []
    },
    {
      "cell_type": "code",
      "metadata": {
        "id": "JRrO11PbQTVW",
        "colab_type": "code",
        "outputId": "ececac42-1e9d-4f9a-e22d-d1278a245a62",
        "colab": {
          "base_uri": "https://localhost:8080/",
          "height": 245
        }
      },
      "source": [
        "y_predict = model.predict(X_train) \n",
        "score = r2_score(y_train, y_predict)\n",
        "#score = mean_squared_error(y_train, y_predict) \n",
        "#score = np.sqrt(mean_squared_error(y_train, y_predict))\n",
        "#score = estimator.score(x_train, y_train) #내부에서 predict \n",
        "print(score) #1.0"
      ],
      "execution_count": 39,
      "outputs": [
        {
          "output_type": "error",
          "ename": "NameError",
          "evalue": "ignored",
          "traceback": [
            "\u001b[0;31m---------------------------------------------------------------------------\u001b[0m",
            "\u001b[0;31mNameError\u001b[0m                                 Traceback (most recent call last)",
            "\u001b[0;32m<ipython-input-39-79a19f923a44>\u001b[0m in \u001b[0;36m<module>\u001b[0;34m()\u001b[0m\n\u001b[0;32m----> 1\u001b[0;31m \u001b[0my_predict\u001b[0m \u001b[0;34m=\u001b[0m \u001b[0mmodel\u001b[0m\u001b[0;34m.\u001b[0m\u001b[0mpredict\u001b[0m\u001b[0;34m(\u001b[0m\u001b[0mX_train\u001b[0m\u001b[0;34m)\u001b[0m\u001b[0;34m\u001b[0m\u001b[0;34m\u001b[0m\u001b[0m\n\u001b[0m\u001b[1;32m      2\u001b[0m \u001b[0mscore\u001b[0m \u001b[0;34m=\u001b[0m \u001b[0mr2_score\u001b[0m\u001b[0;34m(\u001b[0m\u001b[0my_train\u001b[0m\u001b[0;34m,\u001b[0m \u001b[0my_predict\u001b[0m\u001b[0;34m)\u001b[0m\u001b[0;34m\u001b[0m\u001b[0;34m\u001b[0m\u001b[0m\n\u001b[1;32m      3\u001b[0m \u001b[0;31m#score = mean_squared_error(y_train, y_predict)\u001b[0m\u001b[0;34m\u001b[0m\u001b[0;34m\u001b[0m\u001b[0;34m\u001b[0m\u001b[0m\n\u001b[1;32m      4\u001b[0m \u001b[0;31m#score = np.sqrt(mean_squared_error(y_train, y_predict))\u001b[0m\u001b[0;34m\u001b[0m\u001b[0;34m\u001b[0m\u001b[0;34m\u001b[0m\u001b[0m\n\u001b[1;32m      5\u001b[0m \u001b[0;31m#score = estimator.score(x_train, y_train) #내부에서 predict\u001b[0m\u001b[0;34m\u001b[0m\u001b[0;34m\u001b[0m\u001b[0;34m\u001b[0m\u001b[0m\n",
            "\u001b[0;31mNameError\u001b[0m: name 'model' is not defined"
          ]
        }
      ]
    },
    {
      "cell_type": "code",
      "metadata": {
        "id": "oKmJOCdJQTVY",
        "colab_type": "code",
        "outputId": "37230136-b1d8-48ea-a61b-b7180190288c",
        "colab": {
          "base_uri": "https://localhost:8080/",
          "height": 244
        }
      },
      "source": [
        "y_predict = model.predict(X_test) \n",
        "score = r2_score(y_test, y_predict)\n",
        "#score = mean_squared_error(y_test, y_predict) \n",
        "#score = np.sqrt(mean_squared_error(y_test, y_predict)) \n",
        "#score = estimator.score(x_test, y_test)\n",
        "print(score) #1.0"
      ],
      "execution_count": 0,
      "outputs": [
        {
          "output_type": "error",
          "ename": "NameError",
          "evalue": "ignored",
          "traceback": [
            "\u001b[0;31m---------------------------------------------------------------------------\u001b[0m",
            "\u001b[0;31mNameError\u001b[0m                                 Traceback (most recent call last)",
            "\u001b[0;32m<ipython-input-13-d0494e6dfcf4>\u001b[0m in \u001b[0;36m<module>\u001b[0;34m()\u001b[0m\n\u001b[0;32m----> 1\u001b[0;31m \u001b[0my_predict\u001b[0m \u001b[0;34m=\u001b[0m \u001b[0mmodel\u001b[0m\u001b[0;34m.\u001b[0m\u001b[0mpredict\u001b[0m\u001b[0;34m(\u001b[0m\u001b[0mX_test\u001b[0m\u001b[0;34m)\u001b[0m\u001b[0;34m\u001b[0m\u001b[0;34m\u001b[0m\u001b[0m\n\u001b[0m\u001b[1;32m      2\u001b[0m \u001b[0mscore\u001b[0m \u001b[0;34m=\u001b[0m \u001b[0mr2_score\u001b[0m\u001b[0;34m(\u001b[0m\u001b[0my_test\u001b[0m\u001b[0;34m,\u001b[0m \u001b[0my_predict\u001b[0m\u001b[0;34m)\u001b[0m\u001b[0;34m\u001b[0m\u001b[0;34m\u001b[0m\u001b[0m\n\u001b[1;32m      3\u001b[0m \u001b[0;31m#score = mean_squared_error(y_test, y_predict)\u001b[0m\u001b[0;34m\u001b[0m\u001b[0;34m\u001b[0m\u001b[0;34m\u001b[0m\u001b[0m\n\u001b[1;32m      4\u001b[0m \u001b[0;31m#score = np.sqrt(mean_squared_error(y_test, y_predict))\u001b[0m\u001b[0;34m\u001b[0m\u001b[0;34m\u001b[0m\u001b[0;34m\u001b[0m\u001b[0m\n\u001b[1;32m      5\u001b[0m \u001b[0;31m#score = estimator.score(x_test, y_test)\u001b[0m\u001b[0;34m\u001b[0m\u001b[0;34m\u001b[0m\u001b[0;34m\u001b[0m\u001b[0m\n",
            "\u001b[0;31mNameError\u001b[0m: name 'model' is not defined"
          ]
        }
      ]
    },
    {
      "cell_type": "code",
      "metadata": {
        "id": "NInpCRgTQTVb",
        "colab_type": "code",
        "outputId": "aa477f00-8e9c-467d-c300-87a3ff13a873",
        "colab": {}
      },
      "source": [
        "# 선형 회귀 모델의 정확도(R^2)\n",
        "\n",
        "print(\"트레인 세트의 정확도: {:.2f}\".format(model.score(X_train, y_train)))\n",
        "print(\"테스트 세트의 정확도: {:.2f}\".format(model.score(X_test, y_test)))"
      ],
      "execution_count": 0,
      "outputs": [
        {
          "output_type": "stream",
          "text": [
            "트레인 세트의 정확도: 0.74\n",
            "테스트 세트의 정확도: 0.91\n"
          ],
          "name": "stdout"
        }
      ]
    },
    {
      "cell_type": "markdown",
      "metadata": {
        "id": "lx3jW7kNQTVi",
        "colab_type": "text"
      },
      "source": [
        "## Logistic regression"
      ]
    },
    {
      "cell_type": "code",
      "metadata": {
        "id": "IfWWTlLbQTVi",
        "colab_type": "code",
        "colab": {}
      },
      "source": [
        "from sklearn.linear_model import LogisticRegression"
      ],
      "execution_count": 0,
      "outputs": []
    },
    {
      "cell_type": "code",
      "metadata": {
        "id": "FsvSGrEFQTVm",
        "colab_type": "code",
        "outputId": "224a3d28-f28a-4398-9e48-04fe2e1c9472",
        "colab": {
          "base_uri": "https://localhost:8080/",
          "height": 108
        }
      },
      "source": [
        "log_clf = LogisticRegression(solver='lbfgs', multi_class='auto', max_iter=1000)\n",
        "log_clf.fit(X_train,y_train)"
      ],
      "execution_count": 41,
      "outputs": [
        {
          "output_type": "execute_result",
          "data": {
            "text/plain": [
              "LogisticRegression(C=1.0, class_weight=None, dual=False, fit_intercept=True,\n",
              "                   intercept_scaling=1, l1_ratio=None, max_iter=1000,\n",
              "                   multi_class='auto', n_jobs=None, penalty='l2',\n",
              "                   random_state=None, solver='lbfgs', tol=0.0001, verbose=0,\n",
              "                   warm_start=False)"
            ]
          },
          "metadata": {
            "tags": []
          },
          "execution_count": 41
        }
      ]
    },
    {
      "cell_type": "code",
      "metadata": {
        "id": "3oXIawwKQTVq",
        "colab_type": "code",
        "outputId": "4b66ddf6-beba-4296-8718-cd6f65791821",
        "colab": {
          "base_uri": "https://localhost:8080/",
          "height": 35
        }
      },
      "source": [
        "log_clf.score(X_test, y_test)"
      ],
      "execution_count": 42,
      "outputs": [
        {
          "output_type": "execute_result",
          "data": {
            "text/plain": [
              "0.41922290388548056"
            ]
          },
          "metadata": {
            "tags": []
          },
          "execution_count": 42
        }
      ]
    },
    {
      "cell_type": "code",
      "metadata": {
        "id": "ixWmeUtfQTVs",
        "colab_type": "code",
        "outputId": "9466689e-9416-4ff1-879f-ac0c05ae5c4f",
        "colab": {
          "base_uri": "https://localhost:8080/",
          "height": 1654
        }
      },
      "source": [
        "log_clf.predict(X_test),y_test"
      ],
      "execution_count": 43,
      "outputs": [
        {
          "output_type": "execute_result",
          "data": {
            "text/plain": [
              "(array([5., 5., 5., 5., 5., 4., 5., 5., 4., 4., 5., 5., 1., 5., 5., 5., 4.,\n",
              "        5., 1., 5., 5., 5., 5., 4., 5., 4., 5., 4., 5., 5., 5., 4., 4., 5.,\n",
              "        5., 5., 5., 5., 4., 4., 1., 5., 5., 5., 5., 5., 5., 5., 5., 4., 5.,\n",
              "        4., 5., 5., 5., 5., 5., 1., 5., 5., 5., 5., 4., 5., 5., 4., 5., 5.,\n",
              "        4., 4., 5., 5., 5., 5., 5., 4., 5., 4., 5., 5., 5., 4., 5., 4., 5.,\n",
              "        5., 5., 1., 5., 5., 4., 4., 5., 4., 4., 5., 1., 5., 5., 5., 5., 4.,\n",
              "        5., 5., 5., 4., 4., 4., 5., 4., 5., 5., 4., 5., 5., 4., 5., 5., 5.,\n",
              "        5., 5., 5., 5., 5., 4., 5., 5., 5., 5., 5., 5., 4., 4., 1., 4., 5.,\n",
              "        4., 5., 5., 4., 5., 5., 5., 5., 5., 5., 5., 5., 5., 5., 5., 5., 5.,\n",
              "        5., 5., 4., 5., 5., 5., 5., 5., 4., 5., 5., 5., 5., 4., 4., 5., 1.,\n",
              "        5., 1., 5., 4., 4., 5., 4., 5., 5., 4., 4., 5., 5., 4., 4., 5., 5.,\n",
              "        5., 5., 4., 5., 5., 5., 4., 5., 5., 4., 5., 5., 5., 5., 5., 5., 5.,\n",
              "        5., 5., 5., 5., 5., 5., 5., 5., 5., 5., 5., 5., 5., 5., 5., 5., 5.,\n",
              "        4., 5., 5., 5., 5., 5., 5., 5., 5., 5., 5., 5., 5., 4., 5., 5., 5.,\n",
              "        4., 5., 5., 5., 5., 5., 5., 5., 5., 1., 5., 5., 5., 4., 4., 4., 5.,\n",
              "        5., 1., 5., 4., 5., 4., 5., 5., 5., 5., 5., 4., 5., 4., 5., 5., 5.,\n",
              "        5., 5., 5., 1., 4., 5., 5., 5., 5., 4., 4., 4., 5., 5., 5., 5., 5.,\n",
              "        5., 5., 5., 4., 5., 5., 5., 4., 5., 5., 1., 5., 5., 5., 5., 5., 5.,\n",
              "        5., 5., 5., 5., 4., 5., 5., 4., 5., 5., 5., 4., 5., 4., 5., 5., 5.,\n",
              "        4., 5., 5., 5., 5., 5., 5., 1., 5., 5., 5., 5., 4., 4., 5., 5., 5.,\n",
              "        5., 5., 5., 4., 5., 5., 5., 5., 5., 5., 1., 5., 5., 5., 5., 5., 5.,\n",
              "        4., 5., 5., 4., 5., 5., 5., 5., 5., 5., 5., 4., 5., 5., 5., 5., 5.,\n",
              "        1., 5., 4., 5., 5., 5., 5., 4., 5., 5., 4., 5., 4., 5., 5., 5., 4.,\n",
              "        5., 5., 5., 5., 4., 5., 5., 5., 5., 4., 5., 5., 5., 4., 5., 5., 5.,\n",
              "        5., 4., 4., 4., 5., 4., 4., 5., 5., 5., 4., 5., 5., 5., 5., 5., 5.,\n",
              "        5., 4., 4., 5., 4., 1., 4., 5., 5., 4., 5., 5., 5., 5., 5., 5., 5.,\n",
              "        5., 5., 5., 5., 5., 5., 5., 5., 1., 5., 5., 5., 4., 1., 5., 5., 5.,\n",
              "        5., 5., 5., 5., 5., 4., 5., 4., 5., 5., 5., 4., 5., 5., 4., 5., 5.,\n",
              "        4., 5., 5., 5., 1., 1., 4., 5., 5., 5., 4., 5., 5.]), 1197    4.0\n",
              " 587     2.0\n",
              " 602     1.0\n",
              " 527     5.0\n",
              " 76      5.0\n",
              " 965     5.0\n",
              " 1263    4.0\n",
              " 1500    4.0\n",
              " 1392    5.0\n",
              " 927     5.0\n",
              " 475     3.0\n",
              " 679     4.0\n",
              " 568     2.0\n",
              " 317     3.0\n",
              " 866     5.0\n",
              " 516     3.0\n",
              " 1476    5.0\n",
              " 107     5.0\n",
              " 161     4.0\n",
              " 1271    4.0\n",
              " 1526    5.0\n",
              " 1127    5.0\n",
              " 1625    3.0\n",
              " 969     5.0\n",
              " 253     5.0\n",
              " 1422    5.0\n",
              " 452     2.0\n",
              " 938     4.0\n",
              " 299     3.0\n",
              " 182     1.0\n",
              "        ... \n",
              " 140     5.0\n",
              " 1334    5.0\n",
              " 1299    4.0\n",
              " 1337    5.0\n",
              " 77      5.0\n",
              " 39      3.0\n",
              " 746     5.0\n",
              " 1425    4.0\n",
              " 1336    5.0\n",
              " 1015    5.0\n",
              " 322     2.0\n",
              " 953     4.0\n",
              " 251     2.0\n",
              " 646     5.0\n",
              " 1103    5.0\n",
              " 814     4.0\n",
              " 1185    4.0\n",
              " 1470    5.0\n",
              " 858     5.0\n",
              " 1260    4.0\n",
              " 1249    5.0\n",
              " 58      5.0\n",
              " 554     5.0\n",
              " 1454    5.0\n",
              " 241     2.0\n",
              " 776     5.0\n",
              " 330     5.0\n",
              " 1416    4.0\n",
              " 1235    5.0\n",
              " 1620    5.0\n",
              " Name: cr, Length: 489, dtype: float64)"
            ]
          },
          "metadata": {
            "tags": []
          },
          "execution_count": 43
        }
      ]
    },
    {
      "cell_type": "code",
      "metadata": {
        "id": "1lLr1sv1QTVv",
        "colab_type": "code",
        "outputId": "a9b1d27e-d63f-4076-c11c-0c88c6f76a9f",
        "colab": {
          "base_uri": "https://localhost:8080/",
          "height": 54
        }
      },
      "source": [
        "# 로지스틱 회귀 모델의 정확도(R^2)\n",
        "\n",
        "print(\"트레인 세트의 정확도: {:.2f}\".format(log_clf.score(X_train, y_train)))\n",
        "print(\"테스트 세트의 정확도: {:.2f}\".format(log_clf.score(X_test, y_test)))"
      ],
      "execution_count": 44,
      "outputs": [
        {
          "output_type": "stream",
          "text": [
            "트레인 세트의 정확도: 0.44\n",
            "테스트 세트의 정확도: 0.42\n"
          ],
          "name": "stdout"
        }
      ]
    },
    {
      "cell_type": "code",
      "metadata": {
        "id": "UAYpEfjLQTVx",
        "colab_type": "code",
        "outputId": "37408c80-0558-4935-f869-edc85f1ccddd",
        "colab": {
          "base_uri": "https://localhost:8080/",
          "height": 145
        }
      },
      "source": [
        "log_clf.coef_,log_clf.intercept_"
      ],
      "execution_count": 45,
      "outputs": [
        {
          "output_type": "execute_result",
          "data": {
            "text/plain": [
              "(array([[ 0.01838509, -0.31970679],\n",
              "        [ 0.04893724, -0.32094446],\n",
              "        [-0.12939871,  0.09357985],\n",
              "        [ 0.09477592,  0.29664366],\n",
              "        [-0.03269954,  0.25042774]]),\n",
              " array([ 11.82480153,  11.00587133,  -0.64870333, -13.7765018 ,\n",
              "         -8.40546773]))"
            ]
          },
          "metadata": {
            "tags": []
          },
          "execution_count": 45
        }
      ]
    },
    {
      "cell_type": "code",
      "metadata": {
        "id": "cbtV8AnUQTVz",
        "colab_type": "code",
        "colab": {}
      },
      "source": [
        "import json"
      ],
      "execution_count": 0,
      "outputs": []
    },
    {
      "cell_type": "code",
      "metadata": {
        "id": "-63ACoqmQTV1",
        "colab_type": "code",
        "outputId": "e3b6362f-ec25-48a6-fa26-1184217d37ba",
        "colab": {
          "base_uri": "https://localhost:8080/",
          "height": 55
        }
      },
      "source": [
        "# serialize coefficients (imitate loading from storage)\n",
        "encoded = json.dumps((log_clf.coef_.tolist(), log_clf.intercept_.tolist(), log_clf.penalty, log_clf.C))\n",
        "print(encoded)"
      ],
      "execution_count": 47,
      "outputs": [
        {
          "output_type": "stream",
          "text": [
            "[[[0.01838509139766735, -0.31970679084810366], [0.04893723742837274, -0.3209444589150392], [-0.12939870817951724, 0.09357984840848106], [0.09477592365729284, 0.2966436588277713], [-0.03269954432499251, 0.2504277425210815]], [11.824801528485626, 11.00587133343161, -0.6487033319781057, -13.776501798489177, -8.405467731493518], \"l2\", 1.0]\n"
          ],
          "name": "stdout"
        }
      ]
    },
    {
      "cell_type": "markdown",
      "metadata": {
        "id": "bFsZc8IlQTV4",
        "colab_type": "text"
      },
      "source": [
        "### Save model (Logistic regression)"
      ]
    },
    {
      "cell_type": "code",
      "metadata": {
        "id": "bO0sU5iPQTV4",
        "colab_type": "code",
        "outputId": "99b19078-5f07-4dd8-dcc8-afc6617e0ad3",
        "colab": {
          "base_uri": "https://localhost:8080/",
          "height": 92
        }
      },
      "source": [
        "from sklearn.externals import joblib\n",
        "# save the model to disk\n",
        "filename = 'logi_model.sav'\n",
        "joblib.dump(log_clf, filename)\n",
        " "
      ],
      "execution_count": 48,
      "outputs": [
        {
          "output_type": "stream",
          "text": [
            "/usr/local/lib/python3.6/dist-packages/sklearn/externals/joblib/__init__.py:15: DeprecationWarning: sklearn.externals.joblib is deprecated in 0.21 and will be removed in 0.23. Please import this functionality directly from joblib, which can be installed with: pip install joblib. If this warning is raised when loading pickled models, you may need to re-serialize those models with scikit-learn 0.21+.\n",
            "  warnings.warn(msg, category=DeprecationWarning)\n"
          ],
          "name": "stderr"
        },
        {
          "output_type": "execute_result",
          "data": {
            "text/plain": [
              "['logi_model.sav']"
            ]
          },
          "metadata": {
            "tags": []
          },
          "execution_count": 48
        }
      ]
    },
    {
      "cell_type": "markdown",
      "metadata": {
        "id": "nJJNl3OjQTV7",
        "colab_type": "text"
      },
      "source": [
        "### How to use parameters of logistic regression"
      ]
    },
    {
      "cell_type": "code",
      "metadata": {
        "id": "0gMmNbt7QTV7",
        "colab_type": "code",
        "outputId": "68037555-9642-4e94-d8c7-fd36aaee8345",
        "colab": {
          "base_uri": "https://localhost:8080/",
          "height": 72
        }
      },
      "source": [
        "X_test.shape, X_test.iloc[0][0],X_test.iloc[0][1],X_test.iloc[0]"
      ],
      "execution_count": 49,
      "outputs": [
        {
          "output_type": "execute_result",
          "data": {
            "text/plain": [
              "((489, 2), 21.1, 48.15, temperature    21.10\n",
              " humidity       48.15\n",
              " Name: 1197, dtype: float64)"
            ]
          },
          "metadata": {
            "tags": []
          },
          "execution_count": 49
        }
      ]
    },
    {
      "cell_type": "code",
      "metadata": {
        "id": "dHlESY9_QTV9",
        "colab_type": "code",
        "colab": {}
      },
      "source": [
        "# def sigmoid(x):\n",
        "#     return 1 / (1 + np.exp(-x))\n",
        "\n",
        "# sigmoid(X_test * log_clf.coef_ + log_clf.intercept_).ravel()"
      ],
      "execution_count": 0,
      "outputs": []
    },
    {
      "cell_type": "code",
      "metadata": {
        "id": "ByxXJKgXQTV_",
        "colab_type": "code",
        "colab": {}
      },
      "source": [
        "# Compatibility layer between Python 2 and Python 3\n",
        "from __future__ import print_function\n",
        "import seaborn as sns\n",
        "from scipy import stats\n",
        "\n",
        "from sklearn import metrics\n",
        "from sklearn.metrics import classification_report\n",
        "from sklearn import preprocessing"
      ],
      "execution_count": 0,
      "outputs": []
    },
    {
      "cell_type": "code",
      "metadata": {
        "id": "O53iwk6mQTWB",
        "colab_type": "code",
        "colab": {}
      },
      "source": [
        "def show_confusion_matrix(validations, predictions):\n",
        "\n",
        "    matrix = metrics.confusion_matrix(validations, predictions)\n",
        "    plt.figure(figsize=(8, 8))\n",
        "    sns.heatmap(matrix,\n",
        "                cmap=\"coolwarm\",\n",
        "                linecolor='white',\n",
        "                linewidths=1,\n",
        "                xticklabels=LABELS,\n",
        "                yticklabels=LABELS,\n",
        "                annot=True,\n",
        "                fmt=\"d\")\n",
        "    plt.title(\"Confusion Matrix\")\n",
        "    plt.ylabel(\"True Label\")\n",
        "    plt.xlabel(\"Predicted Label\")\n",
        "    plt.show()"
      ],
      "execution_count": 0,
      "outputs": []
    },
    {
      "cell_type": "code",
      "metadata": {
        "id": "ETJnUcuzQTWC",
        "colab_type": "code",
        "colab": {}
      },
      "source": [
        "# Parameters of data\n",
        "LABELS = [\"1\", \n",
        "          \"2\", \n",
        "          \"3\", \n",
        "          \"4\",\n",
        "          \"5\"]"
      ],
      "execution_count": 0,
      "outputs": []
    },
    {
      "cell_type": "code",
      "metadata": {
        "id": "Obt09PCdQTWF",
        "colab_type": "code",
        "outputId": "4cbf58b3-4055-4592-f356-8f524151ace5",
        "colab": {
          "base_uri": "https://localhost:8080/",
          "height": 988
        }
      },
      "source": [
        "# Confusion matrix for test data\n",
        "print(\"\\n--- Confusion matrix for test data ---\\n\")\n",
        "\n",
        "y_pred_test = log_clf.predict(X_test)\n",
        "# Take the class with the highest probability from the test predictions\n",
        "\n",
        "\n",
        "show_confusion_matrix(y_test.values, y_pred_test)\n",
        "\n",
        "# %%\n",
        "\n",
        "print(\"\\n\\n--- Classification report for test data ---\\n\")\n",
        "\n",
        "print(classification_report(y_test.values, y_pred_test))"
      ],
      "execution_count": 54,
      "outputs": [
        {
          "output_type": "stream",
          "text": [
            "\n",
            "--- Confusion matrix for test data ---\n",
            "\n"
          ],
          "name": "stdout"
        },
        {
          "output_type": "display_data",
          "data": {
            "image/png": "[encoded data removed]",
            "text/plain": [
              "<Figure size 576x576 with 2 Axes>"
            ]
          },
          "metadata": {
            "tags": []
          }
        },
        {
          "output_type": "stream",
          "text": [
            "\n",
            "\n",
            "--- Classification report for test data ---\n",
            "\n",
            "              precision    recall  f1-score   support\n",
            "\n",
            "         1.0       0.33      0.25      0.29        28\n",
            "         2.0       0.00      0.00      0.00        32\n",
            "         3.0       0.00      0.00      0.00        49\n",
            "         4.0       0.38      0.26      0.31       156\n",
            "         5.0       0.44      0.71      0.54       224\n",
            "\n",
            "    accuracy                           0.42       489\n",
            "   macro avg       0.23      0.24      0.23       489\n",
            "weighted avg       0.34      0.42      0.36       489\n",
            "\n"
          ],
          "name": "stdout"
        },
        {
          "output_type": "stream",
          "text": [
            "/usr/local/lib/python3.6/dist-packages/sklearn/metrics/classification.py:1437: UndefinedMetricWarning: Precision and F-score are ill-defined and being set to 0.0 in labels with no predicted samples.\n",
            "  'precision', 'predicted', average, warn_for)\n",
            "/usr/local/lib/python3.6/dist-packages/sklearn/metrics/classification.py:1437: UndefinedMetricWarning: Precision and F-score are ill-defined and being set to 0.0 in labels with no predicted samples.\n",
            "  'precision', 'predicted', average, warn_for)\n",
            "/usr/local/lib/python3.6/dist-packages/sklearn/metrics/classification.py:1437: UndefinedMetricWarning: Precision and F-score are ill-defined and being set to 0.0 in labels with no predicted samples.\n",
            "  'precision', 'predicted', average, warn_for)\n"
          ],
          "name": "stderr"
        }
      ]
    },
    {
      "cell_type": "code",
      "metadata": {
        "id": "GpL-Yb6AQTWH",
        "colab_type": "code",
        "outputId": "df876e10-4955-4502-f67a-20e7c7bfbfb8",
        "colab": {
          "base_uri": "https://localhost:8080/",
          "height": 545
        }
      },
      "source": [
        "y_test.values"
      ],
      "execution_count": 55,
      "outputs": [
        {
          "output_type": "execute_result",
          "data": {
            "text/plain": [
              "array([4., 2., 1., 5., 5., 5., 4., 4., 5., 5., 3., 4., 2., 3., 5., 3., 5.,\n",
              "       5., 4., 4., 5., 5., 3., 5., 5., 5., 2., 4., 3., 1., 5., 4., 5., 4.,\n",
              "       4., 5., 5., 5., 5., 5., 4., 5., 3., 4., 5., 3., 5., 4., 5., 5., 5.,\n",
              "       5., 1., 5., 1., 4., 3., 1., 5., 4., 5., 5., 4., 1., 5., 4., 2., 2.,\n",
              "       5., 5., 5., 4., 4., 3., 4., 4., 5., 5., 4., 4., 5., 5., 3., 5., 5.,\n",
              "       5., 3., 5., 3., 1., 4., 5., 5., 5., 4., 4., 1., 2., 5., 5., 4., 5.,\n",
              "       1., 3., 5., 5., 5., 5., 3., 4., 4., 5., 4., 5., 4., 5., 3., 5., 1.,\n",
              "       5., 5., 4., 5., 5., 3., 4., 3., 5., 4., 4., 3., 4., 5., 5., 5., 5.,\n",
              "       5., 3., 5., 5., 4., 4., 5., 4., 5., 5., 5., 5., 3., 2., 5., 3., 5.,\n",
              "       5., 5., 5., 4., 5., 2., 5., 5., 5., 4., 4., 5., 2., 5., 4., 5., 2.,\n",
              "       2., 2., 2., 3., 4., 5., 4., 4., 4., 5., 4., 5., 5., 4., 5., 5., 4.,\n",
              "       1., 4., 4., 5., 5., 5., 5., 5., 5., 5., 4., 5., 2., 3., 4., 5., 5.,\n",
              "       1., 4., 4., 2., 4., 4., 4., 4., 5., 5., 4., 2., 3., 4., 4., 5., 5.,\n",
              "       4., 3., 5., 4., 2., 4., 5., 4., 5., 1., 3., 4., 5., 5., 4., 5., 4.,\n",
              "       5., 5., 2., 5., 4., 4., 5., 1., 5., 1., 5., 4., 4., 5., 4., 4., 4.,\n",
              "       5., 4., 4., 3., 5., 5., 5., 4., 4., 5., 4., 4., 5., 5., 5., 3., 5.,\n",
              "       4., 3., 4., 1., 3., 5., 4., 4., 2., 4., 5., 5., 5., 5., 5., 3., 3.,\n",
              "       1., 5., 5., 3., 4., 4., 5., 4., 5., 2., 5., 1., 5., 5., 5., 4., 1.,\n",
              "       5., 5., 3., 3., 5., 3., 3., 5., 4., 4., 4., 4., 4., 5., 5., 5., 5.,\n",
              "       5., 4., 5., 4., 4., 5., 4., 1., 4., 5., 4., 2., 4., 4., 1., 5., 4.,\n",
              "       5., 2., 5., 4., 3., 5., 5., 4., 5., 5., 1., 4., 5., 4., 5., 4., 4.,\n",
              "       4., 1., 5., 4., 5., 5., 4., 4., 4., 4., 3., 5., 4., 3., 4., 5., 5.,\n",
              "       5., 5., 5., 5., 5., 1., 4., 5., 2., 3., 4., 3., 5., 4., 1., 5., 4.,\n",
              "       2., 4., 2., 3., 5., 1., 5., 5., 4., 4., 2., 4., 4., 5., 5., 4., 4.,\n",
              "       5., 4., 5., 5., 5., 4., 5., 4., 4., 4., 5., 2., 5., 2., 4., 4., 3.,\n",
              "       3., 5., 5., 5., 4., 1., 4., 5., 5., 4., 5., 4., 5., 4., 5., 5., 4.,\n",
              "       1., 5., 3., 4., 2., 4., 5., 5., 3., 4., 5., 5., 4., 3., 5., 4., 5.,\n",
              "       5., 5., 4., 5., 5., 3., 5., 4., 5., 5., 2., 4., 2., 5., 5., 4., 4.,\n",
              "       5., 5., 4., 5., 5., 5., 5., 2., 5., 5., 4., 5., 5.])"
            ]
          },
          "metadata": {
            "tags": []
          },
          "execution_count": 55
        }
      ]
    },
    {
      "cell_type": "code",
      "metadata": {
        "id": "ra4eYSI-QTWJ",
        "colab_type": "code",
        "outputId": "278f63c6-32a8-4606-b1ee-b0e7bca31eb7",
        "colab": {
          "base_uri": "https://localhost:8080/",
          "height": 545
        }
      },
      "source": [
        "y_pred_test"
      ],
      "execution_count": 56,
      "outputs": [
        {
          "output_type": "execute_result",
          "data": {
            "text/plain": [
              "array([5., 5., 5., 5., 5., 4., 5., 5., 4., 4., 5., 5., 1., 5., 5., 5., 4.,\n",
              "       5., 1., 5., 5., 5., 5., 4., 5., 4., 5., 4., 5., 5., 5., 4., 4., 5.,\n",
              "       5., 5., 5., 5., 4., 4., 1., 5., 5., 5., 5., 5., 5., 5., 5., 4., 5.,\n",
              "       4., 5., 5., 5., 5., 5., 1., 5., 5., 5., 5., 4., 5., 5., 4., 5., 5.,\n",
              "       4., 4., 5., 5., 5., 5., 5., 4., 5., 4., 5., 5., 5., 4., 5., 4., 5.,\n",
              "       5., 5., 1., 5., 5., 4., 4., 5., 4., 4., 5., 1., 5., 5., 5., 5., 4.,\n",
              "       5., 5., 5., 4., 4., 4., 5., 4., 5., 5., 4., 5., 5., 4., 5., 5., 5.,\n",
              "       5., 5., 5., 5., 5., 4., 5., 5., 5., 5., 5., 5., 4., 4., 1., 4., 5.,\n",
              "       4., 5., 5., 4., 5., 5., 5., 5., 5., 5., 5., 5., 5., 5., 5., 5., 5.,\n",
              "       5., 5., 4., 5., 5., 5., 5., 5., 4., 5., 5., 5., 5., 4., 4., 5., 1.,\n",
              "       5., 1., 5., 4., 4., 5., 4., 5., 5., 4., 4., 5., 5., 4., 4., 5., 5.,\n",
              "       5., 5., 4., 5., 5., 5., 4., 5., 5., 4., 5., 5., 5., 5., 5., 5., 5.,\n",
              "       5., 5., 5., 5., 5., 5., 5., 5., 5., 5., 5., 5., 5., 5., 5., 5., 5.,\n",
              "       4., 5., 5., 5., 5., 5., 5., 5., 5., 5., 5., 5., 5., 4., 5., 5., 5.,\n",
              "       4., 5., 5., 5., 5., 5., 5., 5., 5., 1., 5., 5., 5., 4., 4., 4., 5.,\n",
              "       5., 1., 5., 4., 5., 4., 5., 5., 5., 5., 5., 4., 5., 4., 5., 5., 5.,\n",
              "       5., 5., 5., 1., 4., 5., 5., 5., 5., 4., 4., 4., 5., 5., 5., 5., 5.,\n",
              "       5., 5., 5., 4., 5., 5., 5., 4., 5., 5., 1., 5., 5., 5., 5., 5., 5.,\n",
              "       5., 5., 5., 5., 4., 5., 5., 4., 5., 5., 5., 4., 5., 4., 5., 5., 5.,\n",
              "       4., 5., 5., 5., 5., 5., 5., 1., 5., 5., 5., 5., 4., 4., 5., 5., 5.,\n",
              "       5., 5., 5., 4., 5., 5., 5., 5., 5., 5., 1., 5., 5., 5., 5., 5., 5.,\n",
              "       4., 5., 5., 4., 5., 5., 5., 5., 5., 5., 5., 4., 5., 5., 5., 5., 5.,\n",
              "       1., 5., 4., 5., 5., 5., 5., 4., 5., 5., 4., 5., 4., 5., 5., 5., 4.,\n",
              "       5., 5., 5., 5., 4., 5., 5., 5., 5., 4., 5., 5., 5., 4., 5., 5., 5.,\n",
              "       5., 4., 4., 4., 5., 4., 4., 5., 5., 5., 4., 5., 5., 5., 5., 5., 5.,\n",
              "       5., 4., 4., 5., 4., 1., 4., 5., 5., 4., 5., 5., 5., 5., 5., 5., 5.,\n",
              "       5., 5., 5., 5., 5., 5., 5., 5., 1., 5., 5., 5., 4., 1., 5., 5., 5.,\n",
              "       5., 5., 5., 5., 5., 4., 5., 4., 5., 5., 5., 4., 5., 5., 4., 5., 5.,\n",
              "       4., 5., 5., 5., 1., 1., 4., 5., 5., 5., 4., 5., 5.])"
            ]
          },
          "metadata": {
            "tags": []
          },
          "execution_count": 56
        }
      ]
    }
  ]
}